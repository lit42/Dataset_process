{
 "cells": [
  {
   "cell_type": "code",
   "execution_count": 10,
   "id": "a834d7e5-ed9b-470b-a5c4-4c6c3c21cd6a",
   "metadata": {
    "tags": []
   },
   "outputs": [],
   "source": [
    "import pandas as pd\n",
    "\n",
    "df = pd.read_csv('1.9.3_dataset.csv')\n",
    "\n",
    "row = 70"
   ]
  },
  {
   "cell_type": "code",
   "execution_count": 11,
   "id": "668e052d-a6fc-48f7-af28-00e312acc490",
   "metadata": {
    "tags": []
   },
   "outputs": [
    {
     "name": "stdout",
     "output_type": "stream",
     "text": [
      "Value Creation, Executive Leadership, Project Management, Stakeholder Communications, Organizational Strategy, Customer Success, Content Development, Performance Management, Registration Evaluation Authorisation And Restriction Of Chemicals (REACH) Regulations, Storage Area Network (SAN), Transformation (Genetics), Executable, Cross-Functional Coordination, Strategic Prioritization, Design Specifications, User-Centered Design, User-Centered Design, Executable, Executable, Analytics, Tooling, Ocean Data View, Cultivator, Cross-Functional Collaboration, Exploratory Data Analysis, Exploratory Data Analysis, Organizational Analysis, Exploratory Data Analysis, Exploratory Data Analysis, SQL And Java (SQLJ), SQL And Java (SQLJ), Transformation (Genetics), Ocean Data View, Perspective (Graphical), Structural Pattern, Interactivity, Millennium Development Goals, Cracking, Appraisals, Additives, Commissioning, Additives, Metro Area Transit, Reflectivity, Limiter, Business Communication, Reflectivity, Business Development Company (BDC), Personalization, Employee Performance Management, Equalization, Coloring, Disabilities, Disabilities\n"
     ]
    }
   ],
   "source": [
    "print(df[\"hard_skills\"][row])"
   ]
  },
  {
   "cell_type": "code",
   "execution_count": 12,
   "id": "ba50310a-b7b5-4607-94fc-98e52d658eda",
   "metadata": {
    "tags": []
   },
   "outputs": [
    {
     "name": "stdout",
     "output_type": "stream",
     "text": [
      "Complex Problem Solving, Coordinating, Decision Making, Decision Making, Decision Making, Detail Oriented, Creativity, Collaboration, Integration, Sourcing, Creativity, Curiosity, Spreadsheets, Complex Problem Solving, Articulation, Communications, Presentations, Presentations, Resourcefulness, Research, Positivity, Positivity, Innovation, Communications, Operations, Friendliness, Innovation\n"
     ]
    }
   ],
   "source": [
    "print(df[\"soft_skills\"][row])"
   ]
  },
  {
   "cell_type": "code",
   "execution_count": null,
   "id": "f4dd7ac4-7abb-4ac1-b3ca-dd62bb9935b5",
   "metadata": {},
   "outputs": [],
   "source": []
  },
  {
   "cell_type": "code",
   "execution_count": null,
   "id": "a0a9cac8-22c7-4166-a482-5171c829f559",
   "metadata": {},
   "outputs": [],
   "source": []
  }
 ],
 "metadata": {
  "kernelspec": {
   "display_name": "Python 3 (ipykernel)",
   "language": "python",
   "name": "python3"
  },
  "language_info": {
   "codemirror_mode": {
    "name": "ipython",
    "version": 3
   },
   "file_extension": ".py",
   "mimetype": "text/x-python",
   "name": "python",
   "nbconvert_exporter": "python",
   "pygments_lexer": "ipython3",
   "version": "3.10.12"
  }
 },
 "nbformat": 4,
 "nbformat_minor": 5
}
