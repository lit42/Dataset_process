{
 "cells": [
  {
   "cell_type": "code",
   "execution_count": 2,
   "id": "b7c6c0dc-fb8e-4f95-a31a-aba9f4ed610a",
   "metadata": {
    "tags": []
   },
   "outputs": [
    {
     "name": "stdout",
     "output_type": "stream",
     "text": [
      "CSV files merged successfully.\n"
     ]
    }
   ],
   "source": [
    "import pandas as pd\n",
    "\n",
    "# Load the first CSV file (rows 1-10000)\n",
    "file1 = '1.7.2_dataset.csv'  # Replace with the actual file path\n",
    "df1 = pd.read_csv(file1)\n",
    "\n",
    "# Load the second CSV file (rows 10001-18000)\n",
    "file2 = '1.8.7_dataset.csv'  # Replace with the actual file path\n",
    "df2 = pd.read_csv(file2)\n",
    "\n",
    "# Merge the hard_skills and soft_skills columns\n",
    "merged_df = df1[['processed_description']].copy()\n",
    "merged_df['hard_skills'] = df1['hard_skills'].combine_first(df2['hard_skills'])\n",
    "merged_df['soft_skills'] = df1['soft_skills'].combine_first(df2['soft_skills'])\n",
    "\n",
    "# Save the merged dataframe to a new CSV file\n",
    "merged_file = 'merged_file.csv'  # Replace with the desired output file path\n",
    "merged_df.to_csv(merged_file, index=False)\n",
    "\n",
    "print(\"CSV files merged successfully.\")\n"
   ]
  },
  {
   "cell_type": "code",
   "execution_count": null,
   "id": "22172ec2-f215-4969-83a0-c92e551b532b",
   "metadata": {},
   "outputs": [],
   "source": []
  }
 ],
 "metadata": {
  "kernelspec": {
   "display_name": "Python 3 (ipykernel)",
   "language": "python",
   "name": "python3"
  },
  "language_info": {
   "codemirror_mode": {
    "name": "ipython",
    "version": 3
   },
   "file_extension": ".py",
   "mimetype": "text/x-python",
   "name": "python",
   "nbconvert_exporter": "python",
   "pygments_lexer": "ipython3",
   "version": "3.10.12"
  }
 },
 "nbformat": 4,
 "nbformat_minor": 5
}
