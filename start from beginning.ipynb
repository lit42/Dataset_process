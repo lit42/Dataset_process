{
 "cells": [
  {
   "cell_type": "code",
   "execution_count": 1,
   "id": "5d0a5b56-764c-48ef-9c8b-9ea77917d218",
   "metadata": {
    "tags": []
   },
   "outputs": [],
   "source": [
    "import pandas as pd\n",
    "\n",
    "data = pd.read_csv('18K cleaned Data analyst jobs.csv')"
   ]
  },
  {
   "cell_type": "code",
   "execution_count": 2,
   "id": "c2f27ae7-78c2-405c-b46b-9b8fdfc6acbd",
   "metadata": {
    "tags": []
   },
   "outputs": [],
   "source": [
    "# Rename the 'via' column to 'platforms'\n",
    "data.rename(columns={'via': 'platform'}, inplace=True)\n",
    "\n",
    "# Remove 'via ' from the 'platforms' column\n",
    "data['platform'] = data['platform'].str.replace('via ', '')\n",
    "\n",
    "# Fill empty values in the 'salary' column with 'Not specified'\n",
    "data['salary'].fillna('Not specified', inplace=True)\n",
    "\n",
    "# Save the modified dataset to a CSV file\n",
    "data.to_csv('1.0_dataset.csv', index=False)\n"
   ]
  },
  {
   "cell_type": "code",
   "execution_count": null,
   "id": "3e720587-dc85-4cad-a82c-5e02084ea135",
   "metadata": {},
   "outputs": [],
   "source": []
  }
 ],
 "metadata": {
  "kernelspec": {
   "display_name": "Python 3 (ipykernel)",
   "language": "python",
   "name": "python3"
  },
  "language_info": {
   "codemirror_mode": {
    "name": "ipython",
    "version": 3
   },
   "file_extension": ".py",
   "mimetype": "text/x-python",
   "name": "python",
   "nbconvert_exporter": "python",
   "pygments_lexer": "ipython3",
   "version": "3.10.12"
  }
 },
 "nbformat": 4,
 "nbformat_minor": 5
}
