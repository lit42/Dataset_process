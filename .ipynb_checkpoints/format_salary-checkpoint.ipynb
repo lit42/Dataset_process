{
 "cells": [
  {
   "cell_type": "code",
   "execution_count": 56,
   "id": "263aa2b0-9e9a-41a8-8e8c-952af2d922b2",
   "metadata": {
    "tags": []
   },
   "outputs": [],
   "source": [
    "import pandas as pd"
   ]
  },
  {
   "cell_type": "code",
   "execution_count": 57,
   "id": "d3b183fb-5ed2-44f8-9343-49c2b3178766",
   "metadata": {
    "tags": []
   },
   "outputs": [],
   "source": [
    "data = pd.read_csv('1.0_dataset.csv')"
   ]
  },
  {
   "cell_type": "code",
   "execution_count": 58,
   "id": "439e3d74-cb76-44bf-8aff-048313546151",
   "metadata": {
    "tags": []
   },
   "outputs": [],
   "source": [
    "import re\n",
    "\n",
    "# Function to convert salary ranges to a uniform yearly salary format\n",
    "def convert_salary(salary):\n",
    "    if salary == 'Not specified':\n",
    "        return salary\n",
    "    \n",
    "    # Convert decimal numbers to integers\n",
    "    salary = re.sub(r'(\\d+)\\.\\d+', r'\\1', salary)\n",
    "    \n",
    "    if 'hour' in salary:\n",
    "        # Extract hourly wage values\n",
    "        hour_match = re.match(r'(\\d+(?:\\.\\d+)?)–(\\d+(?:\\.\\d+)?) an hour', salary)\n",
    "        if hour_match:\n",
    "            lower = int(float(hour_match.group(1)) * 40 * 52)\n",
    "            upper = int(float(hour_match.group(2)) * 40 * 52)\n",
    "            return f'{lower}-{upper} a year'\n",
    "        else:\n",
    "            hourly_rate = int(float(salary.replace(' an hour', '')) * 40 * 52)\n",
    "            return f'{hourly_rate} a year'\n",
    "    \n",
    "    if 'year' in salary:\n",
    "        # Extract yearly salary values\n",
    "        year_match = re.match(r'([\\d,]+)–([\\d,]+) a year', salary)\n",
    "        if year_match:\n",
    "            lower = int(year_match.group(1).replace(',', ''))\n",
    "            upper = int(year_match.group(2).replace(',', ''))\n",
    "            return f'{lower}-{upper} a year'\n",
    "    \n",
    "    # Convert K to thousands\n",
    "    if 'K' in salary:\n",
    "        salary = salary.replace('K', '000')\n",
    "    \n",
    "    # Extract salary values\n",
    "    salary_match = re.match(r'(\\d+)–(\\d+)', salary)\n",
    "    if salary_match:\n",
    "        lower = int(salary_match.group(1))\n",
    "        upper = int(salary_match.group(2))\n",
    "        return f'{lower}-{upper} a year'\n",
    "    \n",
    "    # Single salary value\n",
    "    return salary\n",
    "\n",
    "# Apply the convert_salary function to the 'salary' column\n",
    "data['salary'] = data['salary'].apply(convert_salary)\n"
   ]
  },
  {
   "cell_type": "code",
   "execution_count": 59,
   "id": "55b2528c-550a-4f0d-a480-f1b56aa3fdd5",
   "metadata": {
    "tags": []
   },
   "outputs": [],
   "source": [
    "# Save the modified dataset to a CSV file\n",
    "data.to_csv('1.1_dataset.csv', index=False)\n"
   ]
  },
  {
   "cell_type": "code",
   "execution_count": 67,
   "id": "7dca2853-7320-40a0-84be-c08e21fd0d25",
   "metadata": {},
   "outputs": [],
   "source": [
    "data = pd.read_csv('1.1_dataset.csv')"
   ]
  },
  {
   "cell_type": "code",
   "execution_count": 68,
   "id": "85e6945d-50e1-4817-965c-f964e626d979",
   "metadata": {},
   "outputs": [
    {
     "name": "stdout",
     "output_type": "stream",
     "text": [
      "Missing values:\n",
      "title           0\n",
      "location       14\n",
      "salary          0\n",
      "platform        2\n",
      "description     0\n",
      "dtype: int64\n"
     ]
    }
   ],
   "source": [
    "# Check for missing values\n",
    "print('Missing values:')\n",
    "print(data.isnull().sum())"
   ]
  },
  {
   "cell_type": "code",
   "execution_count": 69,
   "id": "449407ee-f406-4e71-8ecb-b5d5ebcea888",
   "metadata": {
    "tags": []
   },
   "outputs": [
    {
     "name": "stdout",
     "output_type": "stream",
     "text": [
      "Missing values after cleaning:\n",
      "title          0\n",
      "location       0\n",
      "salary         0\n",
      "platform       0\n",
      "description    0\n",
      "dtype: int64\n"
     ]
    }
   ],
   "source": [
    "# Remove rows with missing values\n",
    "data_cleaned = data.dropna()\n",
    "\n",
    "# Check if missing values are removed\n",
    "print('Missing values after cleaning:')\n",
    "print(data_cleaned.isnull().sum())\n",
    "\n",
    "# Save the cleaned dataset to a CSV file\n",
    "data_cleaned.to_csv('1.2_dataset.csv', index=False)"
   ]
  },
  {
   "cell_type": "code",
   "execution_count": null,
   "id": "8999182a-dfd8-4b5c-80db-82affec7e3b8",
   "metadata": {},
   "outputs": [],
   "source": []
  },
  {
   "cell_type": "code",
   "execution_count": 47,
   "id": "48be12c6-53a7-4bcc-99e6-c42bb354d545",
   "metadata": {
    "tags": []
   },
   "outputs": [],
   "source": [
    "import pandas as pd\n",
    "data = pd.read_csv('1.2_dataset.csv')"
   ]
  },
  {
   "cell_type": "code",
   "execution_count": 48,
   "id": "607db80b-814e-453d-a5e7-34f20f36bf32",
   "metadata": {
    "tags": []
   },
   "outputs": [],
   "source": [
    "# Remove leading and trailing spaces from all columns\n",
    "data_cleaned = data.applymap(lambda x: x.strip() if isinstance(x, str) else x)\n"
   ]
  },
  {
   "cell_type": "code",
   "execution_count": 49,
   "id": "ad621c87-7d24-4651-8e82-d81c94d2c506",
   "metadata": {
    "tags": []
   },
   "outputs": [
    {
     "name": "stdout",
     "output_type": "stream",
     "text": [
      "                                                   title         location  \\\n",
      "1839                  Development Data Analyst (Analyst)  Kansas City, MO   \n",
      "1840   Senior Development Data Analyst (Development S...  Kansas City, MO   \n",
      "8490                            Research Data Analyst II         Anywhere   \n",
      "14742                   Data Analyst (Remote) - (822954)         Anywhere   \n",
      "15821                       RESEARCH DATA SPECIALIST III         Anywhere   \n",
      "\n",
      "                    salary  platform  \\\n",
      "1839   4,619–6,928 a month    Indeed   \n",
      "1840   5,173–7,759 a month    Indeed   \n",
      "8490   5,793–7,256 a month    Indeed   \n",
      "14742        6,355 a month  LinkedIn   \n",
      "15821  7,315–9,155 a month  LinkedIn   \n",
      "\n",
      "                                             description  \n",
      "1839   Pay,Benefits, & Work Schedule\\n\\nFull-time pos...  \n",
      "1840   Pay,Benefits, & Work Schedule\\n\\nFull-time pos...  \n",
      "8490   The CA. Department of Social Services' Researc...  \n",
      "14742  Data Analyst IV (Remote)\\n\\nTexas Workforce Co...  \n",
      "15821  About the DFPI\\n\\nThe Department of Financial ...  \n"
     ]
    }
   ],
   "source": [
    "# Filter rows based on salary condition\n",
    "filtered_rows = data_cleaned[~((data_cleaned['salary'] == 'Not specified') | data_cleaned['salary'].str.endswith('a year'))]\n",
    "\n",
    "# Display the filtered rows\n",
    "print(filtered_rows)"
   ]
  },
  {
   "cell_type": "code",
   "execution_count": 51,
   "id": "cf8fbf28-a5b2-40f1-a653-8214e20b4d1c",
   "metadata": {},
   "outputs": [
    {
     "ename": "ValueError",
     "evalue": "too many values to unpack (expected 2)",
     "output_type": "error",
     "traceback": [
      "\u001b[1;31m---------------------------------------------------------------------------\u001b[0m",
      "\u001b[1;31mValueError\u001b[0m                                Traceback (most recent call last)",
      "Cell \u001b[1;32mIn[51], line 18\u001b[0m\n\u001b[0;32m     16\u001b[0m \u001b[38;5;66;03m# Convert the specified rows' salaries to yearly salaries\u001b[39;00m\n\u001b[0;32m     17\u001b[0m \u001b[38;5;28;01mfor\u001b[39;00m index \u001b[38;5;129;01min\u001b[39;00m monthly_salary_rows:\n\u001b[1;32m---> 18\u001b[0m     data_cleaned\u001b[38;5;241m.\u001b[39mat[index, \u001b[38;5;124m'\u001b[39m\u001b[38;5;124msalary\u001b[39m\u001b[38;5;124m'\u001b[39m] \u001b[38;5;241m=\u001b[39m \u001b[43mconvert_monthly_to_yearly\u001b[49m\u001b[43m(\u001b[49m\u001b[43mdata_cleaned\u001b[49m\u001b[38;5;241;43m.\u001b[39;49m\u001b[43mat\u001b[49m\u001b[43m[\u001b[49m\u001b[43mindex\u001b[49m\u001b[43m,\u001b[49m\u001b[43m \u001b[49m\u001b[38;5;124;43m'\u001b[39;49m\u001b[38;5;124;43msalary\u001b[39;49m\u001b[38;5;124;43m'\u001b[39;49m\u001b[43m]\u001b[49m\u001b[43m)\u001b[49m\n\u001b[0;32m     20\u001b[0m \u001b[38;5;66;03m# Display the modified DataFrame for the specified rows\u001b[39;00m\n\u001b[0;32m     21\u001b[0m \u001b[38;5;28mprint\u001b[39m(data_cleaned\u001b[38;5;241m.\u001b[39mloc[monthly_salary_rows])\n",
      "Cell \u001b[1;32mIn[51], line 5\u001b[0m, in \u001b[0;36mconvert_monthly_to_yearly\u001b[1;34m(salary)\u001b[0m\n\u001b[0;32m      3\u001b[0m \u001b[38;5;28;01mdef\u001b[39;00m \u001b[38;5;21mconvert_monthly_to_yearly\u001b[39m(salary):\n\u001b[0;32m      4\u001b[0m     \u001b[38;5;28;01mif\u001b[39;00m \u001b[38;5;124m'\u001b[39m\u001b[38;5;124m–\u001b[39m\u001b[38;5;124m'\u001b[39m \u001b[38;5;129;01min\u001b[39;00m salary:  \u001b[38;5;66;03m# If salary is in a range format\u001b[39;00m\n\u001b[1;32m----> 5\u001b[0m         min_salary, max_salary \u001b[38;5;241m=\u001b[39m re\u001b[38;5;241m.\u001b[39mfindall(\u001b[38;5;124mr\u001b[39m\u001b[38;5;124m'\u001b[39m\u001b[38;5;124m\\\u001b[39m\u001b[38;5;124md+\u001b[39m\u001b[38;5;124m'\u001b[39m, salary)\n\u001b[0;32m      6\u001b[0m         avg_salary \u001b[38;5;241m=\u001b[39m (\u001b[38;5;28mint\u001b[39m(min_salary) \u001b[38;5;241m+\u001b[39m \u001b[38;5;28mint\u001b[39m(max_salary)) \u001b[38;5;241m/\u001b[39m \u001b[38;5;241m2\u001b[39m\n\u001b[0;32m      7\u001b[0m     \u001b[38;5;28;01melse\u001b[39;00m:  \u001b[38;5;66;03m# If salary is not in a range format\u001b[39;00m\n",
      "\u001b[1;31mValueError\u001b[0m: too many values to unpack (expected 2)"
     ]
    }
   ],
   "source": [
    "import re\n",
    "\n",
    "def convert_monthly_to_yearly(salary):\n",
    "    if '–' in salary:  # If salary is in a range format\n",
    "        min_salary, max_salary = re.findall(r'\\d+', salary)\n",
    "        avg_salary = (int(min_salary) + int(max_salary)) / 2\n",
    "    else:  # If salary is not in a range format\n",
    "        avg_salary = float(re.findall(r'\\d+\\.\\d+', salary)[0].replace(',', ''))\n",
    "\n",
    "    yearly_salary = int(avg_salary) * 12\n",
    "    return f'{yearly_salary:,} a year'\n",
    "\n",
    "# Specify the rows with monthly salaries\n",
    "monthly_salary_rows = [1839, 1840, 8490, 14742, 15821]\n",
    "\n",
    "# Convert the specified rows' salaries to yearly salaries\n",
    "for index in monthly_salary_rows:\n",
    "    data_cleaned.at[index, 'salary'] = convert_monthly_to_yearly(data_cleaned.at[index, 'salary'])\n",
    "\n",
    "# Display the modified DataFrame for the specified rows\n",
    "print(data_cleaned.loc[monthly_salary_rows])\n"
   ]
  },
  {
   "cell_type": "code",
   "execution_count": 52,
   "id": "6a06a734-3e95-44e4-8144-98142689c243",
   "metadata": {
    "tags": []
   },
   "outputs": [],
   "source": [
    "# Save the cleaned dataset to a CSV file\n",
    "data_cleaned.to_csv('1.3_dataset.csv', index=False)"
   ]
  },
  {
   "cell_type": "code",
   "execution_count": 45,
   "id": "359a9e69-7e2f-47b6-82ff-9d875a5fc9d6",
   "metadata": {
    "tags": []
   },
   "outputs": [],
   "source": [
    "data = pd.read_csv('1.3_dataset.csv')"
   ]
  },
  {
   "cell_type": "code",
   "execution_count": 46,
   "id": "9ac48a3d-7e6e-44dd-baa4-b26920282c15",
   "metadata": {
    "tags": []
   },
   "outputs": [
    {
     "name": "stdout",
     "output_type": "stream",
     "text": [
      "                                                   title           location  \\\n",
      "0                                           Data Analyst      United States   \n",
      "1                                           Data Analyst        Leawood, KS   \n",
      "2                           Senior Data Analyst (Remote)           Anywhere   \n",
      "3                                  Power BI Data Analyst           Anywhere   \n",
      "4      Product Data Analyst (Remote) ($80000.00 - $90...           Anywhere   \n",
      "...                                                  ...                ...   \n",
      "18256                  Business Intelligence Analyst III      United States   \n",
      "18257                         COOP - Senior Data Analyst  Oklahoma City, OK   \n",
      "18258                                       Data Analyst  Overland Park, KS   \n",
      "18259                      Lead FP&A Analyst- Remote, US      United States   \n",
      "18260                              Data Analyst - Remote      United States   \n",
      "\n",
      "      salary           platform  \\\n",
      "0       None           LinkedIn   \n",
      "1       None           LinkedIn   \n",
      "2       None       Built In NYC   \n",
      "3       None             Upwork   \n",
      "4       None           LinkedIn   \n",
      "...      ...                ...   \n",
      "18256   None  My ArkLaMiss Jobs   \n",
      "18257   None  My ArkLaMiss Jobs   \n",
      "18258   None  My ArkLaMiss Jobs   \n",
      "18259   None  My ArkLaMiss Jobs   \n",
      "18260   None  My ArkLaMiss Jobs   \n",
      "\n",
      "                                             description  \n",
      "0      Job Title: Entry Level Business Analyst / Prod...  \n",
      "1      Summary\\n\\nThe primary task for this individua...  \n",
      "2      In 2016, we founded Provi as an innovative ord...  \n",
      "3      Switching to an hourly job.\\n\\nLooking for som...  \n",
      "4      Advantages Of Joining Employer\\n• Opportunity ...  \n",
      "...                                                  ...  \n",
      "18256  Job Summary:\\n\\nThe Business Intelligence Anal...  \n",
      "18257  Current Employees:\\n\\nIf you are a current emp...  \n",
      "18258  What you will do:\\n• Build reporting dashboard...  \n",
      "18259  About Lumen\\nLumen is guided by our belief tha...  \n",
      "18260  Combine two of the fastest-growing fields on t...  \n",
      "\n",
      "[18261 rows x 5 columns]\n"
     ]
    }
   ],
   "source": [
    "# Filter rows based on salary condition\n",
    "filtered_rows = data_cleaned[~((data_cleaned['salary'] == 'Not specified') | data_cleaned['salary'].str.endswith('a year'))]\n",
    "\n",
    "# Display the filtered rows\n",
    "print(filtered_rows)"
   ]
  },
  {
   "cell_type": "code",
   "execution_count": null,
   "id": "f8514b45-bdaf-443d-a95d-f17b388eb9bd",
   "metadata": {},
   "outputs": [],
   "source": []
  },
  {
   "cell_type": "code",
   "execution_count": null,
   "id": "e04a3d98-8467-43d9-8be9-aebaf25dbd47",
   "metadata": {},
   "outputs": [],
   "source": []
  }
 ],
 "metadata": {
  "kernelspec": {
   "display_name": "Python 3 (ipykernel)",
   "language": "python",
   "name": "python3"
  },
  "language_info": {
   "codemirror_mode": {
    "name": "ipython",
    "version": 3
   },
   "file_extension": ".py",
   "mimetype": "text/x-python",
   "name": "python",
   "nbconvert_exporter": "python",
   "pygments_lexer": "ipython3",
   "version": "3.10.12"
  }
 },
 "nbformat": 4,
 "nbformat_minor": 5
}
