{
 "cells": [
  {
   "cell_type": "code",
   "execution_count": 10,
   "id": "1d1eca45-ead4-4818-9c67-ecd435cfbfb6",
   "metadata": {
    "tags": []
   },
   "outputs": [
    {
     "name": "stdout",
     "output_type": "stream",
     "text": [
      "loading full_matcher ...\n",
      "loading abv_matcher ...\n",
      "loading full_uni_matcher ...\n",
      "loading low_form_matcher ...\n",
      "loading token_matcher ...\n"
     ]
    }
   ],
   "source": [
    "import pandas as pd\n",
    "import spacy\n",
    "from spacy.matcher import PhraseMatcher\n",
    "from skillNer.skill_extractor_class import SkillExtractor\n",
    "import json\n",
    "from tqdm import tqdm\n",
    "\n",
    "# Load your CSV dataset\n",
    "csv_file_path = \"1.7_dataset.csv\"\n",
    "df = pd.read_csv(csv_file_path)\n",
    "\n",
    "# Load spaCy model and initialize skill extractor\n",
    "nlp = spacy.load(\"en_core_web_lg\")\n",
    "\n",
    "# Load the skill database from the JSON file\n",
    "with open(\"skill_db_relax_20.json\", \"r\") as json_file:\n",
    "    skill_db = json.load(json_file)\n",
    "\n",
    "# Initialize skill extractor with the loaded skill database\n",
    "skill_extractor = SkillExtractor(nlp, skill_db, PhraseMatcher)\n",
    "\n",
    "# Function to extract and process skills\n",
    "def process_skills(description):\n",
    "    annotations = skill_extractor.annotate(description)\n",
    "    return annotations\n",
    "\n",
    "def get_skill_names(skill_ids):\n",
    "    return [skill_db.get(skill_id, {}).get(\"skill_name\") for skill_id in skill_ids]\n",
    "\n",
    "# Function to categorize skills\n",
    "def categorize_skills(skill_annotations):\n",
    "    hard_skills = []\n",
    "    soft_skills = []\n",
    "    \n",
    "    for annotation in skill_annotations[\"results\"][\"full_matches\"]:\n",
    "        skill_id = annotation[\"skill_id\"]\n",
    "        skill_type = skill_db.get(skill_id, {}).get(\"skill_type\")\n",
    "        \n",
    "        if skill_type == \"Hard Skill\":\n",
    "            hard_skills.append(skill_id)\n",
    "        elif skill_type == \"Soft Skill\":\n",
    "            soft_skills.append(skill_id)\n",
    "    \n",
    "    for ngram_annotation in skill_annotations[\"results\"][\"ngram_scored\"]:\n",
    "        ngram_skill_id = ngram_annotation[\"skill_id\"]\n",
    "        ngram_skill_type = skill_db.get(ngram_skill_id, {}).get(\"skill_type\")\n",
    "        \n",
    "        if ngram_skill_type == \"Hard Skill\":\n",
    "            hard_skills.append(ngram_skill_id)\n",
    "        elif ngram_skill_type == \"Soft Skill\":\n",
    "            soft_skills.append(ngram_skill_id)\n",
    "    \n",
    "    return hard_skills, soft_skills\n"
   ]
  },
  {
   "cell_type": "code",
   "execution_count": null,
   "id": "7d6fdafe-8ddc-4021-8f5d-a9a2394e7101",
   "metadata": {
    "tags": []
   },
   "outputs": [
    {
     "name": "stderr",
     "output_type": "stream",
     "text": [
      "7it [00:17,  3.15s/it]"
     ]
    }
   ],
   "source": [
    "df[\"hard_skill\"] = \"\"\n",
    "df[\"soft_skill\"] = \"\"\n",
    "\n",
    "# Use tqdm to track processing\n",
    "with tqdm(total=len(df)) as pbar:\n",
    "    # Process descriptions and add values to new columns\n",
    "    for index, row in df.iterrows():\n",
    "        annotations = process_skills(row[\"processed_description\"])\n",
    "        hard_skill_ids, soft_skill_ids = categorize_skills(annotations)\n",
    "        hard_skill_names = get_skill_names(hard_skill_ids)\n",
    "        soft_skill_names = get_skill_names(soft_skill_ids)\n",
    "        df.at[index, \"hard_skill\"] = hard_skill_names\n",
    "        df.at[index, \"soft_skill\"] = soft_skill_names\n",
    "        pbar.update(1)  # Update tqdm progress bar\n"
   ]
  },
  {
   "cell_type": "code",
   "execution_count": null,
   "id": "b1222673-3fd3-48ee-b607-b697e2e3eca4",
   "metadata": {},
   "outputs": [],
   "source": [
    "\n",
    "# Save the updated DataFrame to a new CSV file\n",
    "updated_csv_file_path = \"1.9_dataset.csv\"\n",
    "df.to_csv(updated_csv_file_path, index=False)"
   ]
  },
  {
   "cell_type": "code",
   "execution_count": null,
   "id": "af0dcf49-d225-488a-a974-0135e29640f9",
   "metadata": {},
   "outputs": [],
   "source": []
  },
  {
   "cell_type": "code",
   "execution_count": null,
   "id": "ee898965-dd0a-4844-bf2d-684c1f75aa03",
   "metadata": {},
   "outputs": [],
   "source": []
  }
 ],
 "metadata": {
  "kernelspec": {
   "display_name": "Python 3 (ipykernel)",
   "language": "python",
   "name": "python3"
  },
  "language_info": {
   "codemirror_mode": {
    "name": "ipython",
    "version": 3
   },
   "file_extension": ".py",
   "mimetype": "text/x-python",
   "name": "python",
   "nbconvert_exporter": "python",
   "pygments_lexer": "ipython3",
   "version": "3.10.12"
  }
 },
 "nbformat": 4,
 "nbformat_minor": 5
}
