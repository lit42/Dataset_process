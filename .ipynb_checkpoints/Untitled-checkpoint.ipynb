{
 "cells": [
  {
   "cell_type": "code",
   "execution_count": 9,
   "id": "7ccdde22-1c12-402a-b235-d14984c15100",
   "metadata": {
    "tags": []
   },
   "outputs": [
    {
     "name": "stdout",
     "output_type": "stream",
     "text": [
      "loading full_matcher ...\n",
      "loading abv_matcher ...\n",
      "loading full_uni_matcher ...\n",
      "loading low_form_matcher ...\n",
      "loading token_matcher ...\n"
     ]
    },
    {
     "ename": "IndexError",
     "evalue": "list index out of range",
     "output_type": "error",
     "traceback": [
      "\u001b[1;31m---------------------------------------------------------------------------\u001b[0m",
      "\u001b[1;31mIndexError\u001b[0m                                Traceback (most recent call last)",
      "Cell \u001b[1;32mIn[9], line 20\u001b[0m\n\u001b[0;32m     15\u001b[0m \u001b[38;5;66;03m# extract skills from job_description\u001b[39;00m\n\u001b[0;32m     16\u001b[0m job_description \u001b[38;5;241m=\u001b[39m \u001b[38;5;124m\"\"\"\u001b[39m\n\u001b[0;32m     17\u001b[0m \u001b[38;5;124m\tprocessed_description\u001b[39m\n\u001b[0;32m     18\u001b[0m \u001b[38;5;124m77\tposition summary supports customer analytics implementing managing day day delivery customer analytics including customer experience metrics analysis , collaborate offshore resources development customer analytics data systems , data bases design processes . incumbent also responsible develop methodology model relationships multivariate ... operational metrics , customer survey data , customer experience data . incumbent perform complex quantitate qualitative analysis support customer experience improvement . make recommendations regarding customer experience analytics . major responsibilities • perform quantitative qualitative analysis using traditional advanced analytical models , tools techniques , including trending , correlation , forecasting , conduct what-if scenario analysis , field , sales corporate leadership . • document findings , interpret data findings , draw conclusions , write reports . • develop data support systems understanding external customer requirements expected outcomes , forming managing project teams , delivering tools systems time . • defines , designs , develops delivers dashboards , reports analyses suport market intelligence customer experience teams . • establishes , manages maintains library data dictionaries , reusable approaches , shared constructs techniques company-wide reference access . • reviews company needs usage recommend new modeling methodologies . • manage multiple tasks supporting multiple projects . manage timelines bring projects time within budget . • collaborates genpact team ( external offshore partners ) . • contribute scoping analytical projects qualifications • master ’ degree engineering , operations research , statistics , applied math , computer science , related quantitative field required • 2 years experience related field required • 2 years experience experience designing building machine learning applications using either structured unstructured datasets required . • practical experience programming using python , r high level scripting languages required . demonstrated experience one machine learning techniques including logistic regression , decision trees , random forests clustering required . knowledge experience sql preferred . • ability collect analyze complex data translate data insights action • ability organize prioritize work meet multiple deadlines • effective communication skills oral written form • regular , predictable , full attendance essential function job • willingness travel necessary , work required schedule , work specific location required , complete penske employment application , submit background investigation ( include past employment , education , criminal history ) drug screening required physical requirements • physical mental demands described representative must met associate successfully perform essential functions job . reasonable accommodations may made enable individuals disabilities perform essential functions . • associate required : read ; communicate verbally and/or written form ; remember analyze certain information ; remember understand certain instructions guidelines . • performing duties job , associate may required stand , walk , sit . associate frequently required use hands touch , handle , feel , reach hands arms . associate must able occasionally lift and/or move 25lbs/12kg . • specific vision abilities required job include close vision , distance vision , peripheral vision , depth perception ability adjust focus . penske equal opportunity employer . penske truck leasing penske truck leasing co. , l.p. , headquartered reading , pennsylvania , partnership penske corporation , penske automotive group mitsui & co. , ltd. leading global transportation services provider , penske operates premier fleet vehicles serves customers locations north america , south america , europe , australia , asia . penske ’ product lines include full-service truck leasing , contract maintenance , commercial consumer truck rentals , used truck sales , transportation warehousing management supply chain management solutions . work locations 100 gundy drive primary location united states-pennsylvania-reading job marketing penske oracle job ( us \u001b[39m\u001b[38;5;124m%\u001b[39m\u001b[38;5;124m 26 ca edit ) ptl.data scientist\u001b[39m\n\u001b[0;32m     19\u001b[0m \u001b[38;5;124m\"\"\"\u001b[39m\n\u001b[1;32m---> 20\u001b[0m annotations \u001b[38;5;241m=\u001b[39m \u001b[43mskill_extractor\u001b[49m\u001b[38;5;241;43m.\u001b[39;49m\u001b[43mannotate\u001b[49m\u001b[43m(\u001b[49m\u001b[43mjob_description\u001b[49m\u001b[43m)\u001b[49m\n\u001b[0;32m     22\u001b[0m \u001b[38;5;28mprint\u001b[39m(annotations)\n",
      "File \u001b[1;32mD:\\Anaconda\\envs\\Capstone_2023\\lib\\site-packages\\skillNer\\skill_extractor_class.py:132\u001b[0m, in \u001b[0;36mSkillExtractor.annotate\u001b[1;34m(self, text, tresh)\u001b[0m\n\u001b[0;32m    126\u001b[0m skills_uni_full, text_obj \u001b[38;5;241m=\u001b[39m \u001b[38;5;28mself\u001b[39m\u001b[38;5;241m.\u001b[39mskill_getters\u001b[38;5;241m.\u001b[39mget_full_uni_match_skills(\n\u001b[0;32m    127\u001b[0m     text_obj, \u001b[38;5;28mself\u001b[39m\u001b[38;5;241m.\u001b[39mmatchers[\u001b[38;5;124m'\u001b[39m\u001b[38;5;124mfull_uni_matcher\u001b[39m\u001b[38;5;124m'\u001b[39m])\n\u001b[0;32m    129\u001b[0m skills_low_form, text_obj \u001b[38;5;241m=\u001b[39m \u001b[38;5;28mself\u001b[39m\u001b[38;5;241m.\u001b[39mskill_getters\u001b[38;5;241m.\u001b[39mget_low_match_skills(\n\u001b[0;32m    130\u001b[0m     text_obj, \u001b[38;5;28mself\u001b[39m\u001b[38;5;241m.\u001b[39mmatchers[\u001b[38;5;124m'\u001b[39m\u001b[38;5;124mlow_form_matcher\u001b[39m\u001b[38;5;124m'\u001b[39m])\n\u001b[1;32m--> 132\u001b[0m skills_on_token \u001b[38;5;241m=\u001b[39m \u001b[38;5;28;43mself\u001b[39;49m\u001b[38;5;241;43m.\u001b[39;49m\u001b[43mskill_getters\u001b[49m\u001b[38;5;241;43m.\u001b[39;49m\u001b[43mget_token_match_skills\u001b[49m\u001b[43m(\u001b[49m\n\u001b[0;32m    133\u001b[0m \u001b[43m    \u001b[49m\u001b[43mtext_obj\u001b[49m\u001b[43m,\u001b[49m\u001b[43m \u001b[49m\u001b[38;5;28;43mself\u001b[39;49m\u001b[38;5;241;43m.\u001b[39;49m\u001b[43mmatchers\u001b[49m\u001b[43m[\u001b[49m\u001b[38;5;124;43m'\u001b[39;49m\u001b[38;5;124;43mtoken_matcher\u001b[39;49m\u001b[38;5;124;43m'\u001b[39;49m\u001b[43m]\u001b[49m\u001b[43m)\u001b[49m\n\u001b[0;32m    134\u001b[0m full_sk \u001b[38;5;241m=\u001b[39m skills_full \u001b[38;5;241m+\u001b[39m skills_abv\n\u001b[0;32m    135\u001b[0m \u001b[38;5;66;03m# process pseudo submatchers output conflicts\u001b[39;00m\n",
      "File \u001b[1;32mD:\\Anaconda\\envs\\Capstone_2023\\lib\\site-packages\\skillNer\\matcher_class.py:312\u001b[0m, in \u001b[0;36mSkillsGetter.get_token_match_skills\u001b[1;34m(self, text_obj, matcher)\u001b[0m\n\u001b[0;32m    309\u001b[0m     id_ \u001b[38;5;241m=\u001b[39m matcher\u001b[38;5;241m.\u001b[39mvocab\u001b[38;5;241m.\u001b[39mstrings[match_id]\n\u001b[0;32m    311\u001b[0m     \u001b[38;5;66;03m# add\u001b[39;00m\n\u001b[1;32m--> 312\u001b[0m     \u001b[38;5;28;01mif\u001b[39;00m \u001b[43mtext_obj\u001b[49m\u001b[43m[\u001b[49m\u001b[43mstart\u001b[49m\u001b[43m]\u001b[49m\u001b[38;5;241m.\u001b[39mis_matchable:\n\u001b[0;32m    313\u001b[0m         skills\u001b[38;5;241m.\u001b[39mappend({\u001b[38;5;124m'\u001b[39m\u001b[38;5;124mskill_id\u001b[39m\u001b[38;5;124m'\u001b[39m: id_\u001b[38;5;241m+\u001b[39m\u001b[38;5;124m'\u001b[39m\u001b[38;5;124m_oneToken\u001b[39m\u001b[38;5;124m'\u001b[39m,\n\u001b[0;32m    314\u001b[0m                        \u001b[38;5;124m'\u001b[39m\u001b[38;5;124mdoc_node_value\u001b[39m\u001b[38;5;124m'\u001b[39m: \u001b[38;5;28mstr\u001b[39m(doc[start:end]),\n\u001b[0;32m    315\u001b[0m                        \u001b[38;5;124m'\u001b[39m\u001b[38;5;124mdoc_node_id\u001b[39m\u001b[38;5;124m'\u001b[39m: [start],\n\u001b[0;32m    316\u001b[0m                        \u001b[38;5;124m'\u001b[39m\u001b[38;5;124mtype\u001b[39m\u001b[38;5;124m'\u001b[39m: \u001b[38;5;124m'\u001b[39m\u001b[38;5;124mone_token\u001b[39m\u001b[38;5;124m'\u001b[39m})\n\u001b[0;32m    318\u001b[0m \u001b[38;5;28;01mreturn\u001b[39;00m skills\n",
      "File \u001b[1;32mD:\\Anaconda\\envs\\Capstone_2023\\lib\\site-packages\\skillNer\\text_class.py:304\u001b[0m, in \u001b[0;36mText.__getitem__\u001b[1;34m(self, index)\u001b[0m\n\u001b[0;32m    277\u001b[0m \u001b[38;5;28;01mdef\u001b[39;00m \u001b[38;5;21m__getitem__\u001b[39m(\n\u001b[0;32m    278\u001b[0m     \u001b[38;5;28mself\u001b[39m,\n\u001b[0;32m    279\u001b[0m     index: \u001b[38;5;28mint\u001b[39m\n\u001b[0;32m    280\u001b[0m ) \u001b[38;5;241m-\u001b[39m\u001b[38;5;241m>\u001b[39m Word:\n\u001b[0;32m    281\u001b[0m \u001b[38;5;250m    \u001b[39m\u001b[38;5;124;03m\"\"\"To get the word at the specified position by index\u001b[39;00m\n\u001b[0;32m    282\u001b[0m \n\u001b[0;32m    283\u001b[0m \u001b[38;5;124;03m    Parameters\u001b[39;00m\n\u001b[1;32m   (...)\u001b[0m\n\u001b[0;32m    302\u001b[0m \u001b[38;5;124;03m    english\u001b[39;00m\n\u001b[0;32m    303\u001b[0m \u001b[38;5;124;03m    \"\"\"\u001b[39;00m\n\u001b[1;32m--> 304\u001b[0m     \u001b[38;5;28;01mreturn\u001b[39;00m \u001b[38;5;28;43mself\u001b[39;49m\u001b[38;5;241;43m.\u001b[39;49m\u001b[43mlist_words\u001b[49m\u001b[43m[\u001b[49m\u001b[43mindex\u001b[49m\u001b[43m]\u001b[49m\n",
      "\u001b[1;31mIndexError\u001b[0m: list index out of range"
     ]
    }
   ],
   "source": [
    "# imports\n",
    "import spacy\n",
    "from spacy.matcher import PhraseMatcher\n",
    "\n",
    "# load default skills data base\n",
    "from skillNer.general_params import SKILL_DB\n",
    "# import skill extractor\n",
    "from skillNer.skill_extractor_class import SkillExtractor\n",
    "\n",
    "# init params of skill extractor\n",
    "nlp = spacy.load(\"en_core_web_lg\")\n",
    "# # init skill extractor\n",
    "skill_extractor = SkillExtractor(nlp, SKILL_DB, PhraseMatcher)\n",
    "\n",
    "# extract skills from job_description\n",
    "job_description = \"\"\"\n",
    "\n",
    "Requirements\n",
    "• 4+ years of experience in product data analytics within an agile environment\n",
    "• Strong technical background with understanding of software development and web technologies\n",
    "• Proven success in using analytics to drive product understanding, growth, and success\n",
    "• Experience working for a SaaS solutions provider\n",
    "• Experience in a fast-paced, product-led organization\n",
    "• Strong hands-on experience with SQL and big data\n",
    "• Familiarity with data visualization tools\n",
    "• Proficiency in business intelligence tools, preferably Domo\n",
    "• Knowledge of data-oriented programming languages like R\n",
    "• Experience with AB testing\n",
    "• Excellent communication skills for delivering insights to diverse stakeholders\n",
    "• Strong problem-solving skills and willingness to take initiative\n",
    "• Ability to work effectively with cross-functional teams in a matrix organization\n",
    "• Excellent written and verbal communication skills\n",
    "\n",
    "\"\"\"\n",
    "annotations = skill_extractor.annotate(job_description)\n",
    "\n",
    "print(annotations)"
   ]
  },
  {
   "cell_type": "code",
   "execution_count": 7,
   "id": "84e0714d-91e6-45e5-aece-5aceb33dafe8",
   "metadata": {},
   "outputs": [],
   "source": [
    "import pandas as pd\n",
    "\n",
    "# Read the CSV file into a dataframe\n",
    "file_path = '1.7_dataset.csv'\n",
    "df = pd.read_csv(file_path)\n",
    "\n",
    "# Create a new DataFrame with only the \"processed_description\" column\n",
    "new_df = df[[\"processed_description\"]]\n",
    "\n",
    "# Save the new DataFrame to a new CSV file\n",
    "new_csv_file_path = \"1.7.2_dataset.csv\"\n",
    "new_df.to_csv(new_csv_file_path, index=False)\n"
   ]
  },
  {
   "cell_type": "code",
   "execution_count": null,
   "id": "6f9b1ee2-e690-4b57-ad95-b2464d18f218",
   "metadata": {},
   "outputs": [],
   "source": []
  }
 ],
 "metadata": {
  "kernelspec": {
   "display_name": "Python 3 (ipykernel)",
   "language": "python",
   "name": "python3"
  },
  "language_info": {
   "codemirror_mode": {
    "name": "ipython",
    "version": 3
   },
   "file_extension": ".py",
   "mimetype": "text/x-python",
   "name": "python",
   "nbconvert_exporter": "python",
   "pygments_lexer": "ipython3",
   "version": "3.10.12"
  }
 },
 "nbformat": 4,
 "nbformat_minor": 5
}
