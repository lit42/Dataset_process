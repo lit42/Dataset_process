{
 "cells": [
  {
   "cell_type": "code",
   "execution_count": 12,
   "id": "a834d7e5-ed9b-470b-a5c4-4c6c3c21cd6a",
   "metadata": {
    "tags": []
   },
   "outputs": [],
   "source": [
    "import pandas as pd\n",
    "\n",
    "# Load the CSV file into a DataFrame\n",
    "df = pd.read_csv('1.7_dataset.csv')\n",
    "\n",
    "# Create a new DataFrame with only the \"processed_description\" column\n",
    "new_df = df[['processed_description']].copy()\n",
    "\n",
    "# Add empty columns \"hard_skills\" and \"soft_skills\"\n",
    "new_df['hard_skills'] = \"\"\n",
    "new_df['soft_skills'] = \"\"\n",
    "\n",
    "# Save the new DataFrame to a new CSV file\n",
    "new_df.to_csv('1.7.2_dataset.csv', index=False)\n"
   ]
  },
  {
   "cell_type": "code",
   "execution_count": 13,
   "id": "8f95acbf-a140-4265-8123-fdc655b62dfa",
   "metadata": {
    "tags": []
   },
   "outputs": [],
   "source": [
    "df = pd.read_csv('1.7.2_dataset.csv')"
   ]
  },
  {
   "cell_type": "code",
   "execution_count": 16,
   "id": "668e052d-a6fc-48f7-af28-00e312acc490",
   "metadata": {
    "tags": []
   },
   "outputs": [
    {
     "name": "stdout",
     "output_type": "stream",
     "text": [
      "Root Cause Analysis, Business Partnering, Business Economics, Economic Statistics, Actuarial Science, Public Health, Query Languages, Trend Analysis, Root Cause Analysis, Business Intelligence, Actuarial Science, Trend Analysis, Financial Modeling, Network Analysis, Utilization Management, Vendor Contracts, Community Mental Health, Personalization, Accessioning, Perspective (Graphical), Dataset, Outcome Interpretation, Executable, Scale (Map), Limiter, TARGET 3001!, Test Design, Automation, Levelling, Visual Communications, Health Informatics, Finance, Very Large Databases (VLDB), Ocean Data View, Ocean Data View, Knowledge Management Software, SQL (Programming Language), Language Codes, Python (Programming Language), R (Programming Language), Statistics, Analytics, Java Data Mining, Java Data Mining, Data Modeling, Data Modeling, Data Modeling, Visualization, Tooling, Healthcare Analytics, SQL (Programming Language), Analytics, Claims Processing, Claims Processing, Pay Per Play, Purchasing, Equalization, Receivables, Coloring, Disabilities\n"
     ]
    }
   ],
   "source": [
    "print(df[\"hard_skills\"][6])"
   ]
  },
  {
   "cell_type": "code",
   "execution_count": 17,
   "id": "ba50310a-b7b5-4607-94fc-98e52d658eda",
   "metadata": {
    "tags": []
   },
   "outputs": [
    {
     "name": "stdout",
     "output_type": "stream",
     "text": [
      "Positivity, Integration, Decisiveness, Collaboration, Sourcing, Sourcing, Leadership, Presentations, Leadership, Management, Supervision, Timelines, Management, Planning, Governance, Scheduling, Planning, Training And Development\n"
     ]
    }
   ],
   "source": [
    "print(df[\"soft_skills\"][6])"
   ]
  },
  {
   "cell_type": "code",
   "execution_count": null,
   "id": "f4dd7ac4-7abb-4ac1-b3ca-dd62bb9935b5",
   "metadata": {},
   "outputs": [],
   "source": []
  },
  {
   "cell_type": "code",
   "execution_count": null,
   "id": "a0a9cac8-22c7-4166-a482-5171c829f559",
   "metadata": {},
   "outputs": [],
   "source": []
  }
 ],
 "metadata": {
  "kernelspec": {
   "display_name": "Python 3 (ipykernel)",
   "language": "python",
   "name": "python3"
  },
  "language_info": {
   "codemirror_mode": {
    "name": "ipython",
    "version": 3
   },
   "file_extension": ".py",
   "mimetype": "text/x-python",
   "name": "python",
   "nbconvert_exporter": "python",
   "pygments_lexer": "ipython3",
   "version": "3.10.12"
  }
 },
 "nbformat": 4,
 "nbformat_minor": 5
}
