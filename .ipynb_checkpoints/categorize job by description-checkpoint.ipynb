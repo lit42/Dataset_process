{
 "cells": [
  {
   "cell_type": "code",
   "execution_count": 16,
   "id": "9995594e-9a6e-4c80-a51b-db5ef76fc475",
   "metadata": {
    "tags": []
   },
   "outputs": [],
   "source": [
    "import pandas as pd\n",
    "import re\n",
    "\n",
    "data = pd.read_csv('1.5_dataset.csv')"
   ]
  },
  {
   "cell_type": "code",
   "execution_count": 17,
   "id": "8e757bba-7834-4a86-a972-b27a7d7f84aa",
   "metadata": {
    "tags": []
   },
   "outputs": [],
   "source": [
    "# Define the keyword-based.\n",
    "des_categories_by_level = {\n",
    "    \"Junior Data Analysts\": [\"junior\", \"jr\", \"entry level\", \"entry-level\", \"analyst i\", \"analyst 1\", \"intern\"],\n",
    "    \"Senior Data Analysts\": [\"senior\", \"sr\", \"analyst ii\", \"analyst 2\", \"analyst iii\", \"analyst 3\", \"advanced\"],\n",
    "    \"Lead Data Analysts\": [\"lead\", \"director\", \"manager\", \"leader\", \"principal\", \"cto\"],\n",
    "}\n",
    "\n",
    "des_categories_by_domain = {\n",
    "    \"BI Data Analysts\": [\"business intelligence\", \"bi\"],\n",
    "    \"Business Data Analysts\": [\"commercial\", \"ecommerce\", \"commerce\"],\n",
    "    \"Google Analytics expert\": [\"google\", \"ga4\", \"ga\"],\n",
    "    \"Data Governance Analyst\": [\"governance\"],\n",
    "    \"Qualitative Data Analysts\": [\"qualitative\"],\n",
    "    \"Healthcare Data Analysts\": [\"health\", \"healthcare\", \"medical\", \"clinical\", \"patient\"],\n",
    "    \"Supply Chain Data Analysts\": [\"supply chain\", \"logistics\"],\n",
    "    \"GIS Data Analysts\": [\"gis\", \"geospatial\", \"geographic\"],\n",
    "    \"HR Data Analysts\": [\"hr\", \"human resources\"],\n",
    "    \"Marketing Data Analysts\": [\"marketing\", \"market\", \"salesforce\", \"sales\", \"product\", \"production\", \"online retail\", \"trade\", \"advertising\"],\n",
    "    \"Financial Data Analysts\": [\"financial\", \"finance\"],\n",
    "    \"Operations Data Analysts\": [\"operations\"],\n",
    "    \"Technical Data Analysts\": [\"technical\", \"tech\", \"technology\", \"it\"],\n",
    "    \"Risk Analysts\": [\"risk\", \"risks\"],\n",
    "    \"Data Scientists\": [\"science\", \"scientist\", \"research\", \"researcher\", \"scientific\"],\n",
    "    \"Data Engineers\": [\"engineer\", \"engineering\"],\n",
    "    \"Quality Data Analysts\": [\"quality\"],\n",
    "    \"Excel expert\": [\"excel\"],\n",
    "}\n",
    "\n",
    "\n"
   ]
  },
  {
   "cell_type": "code",
   "execution_count": 18,
   "id": "a9d6f011-aa58-4222-9a1d-d97e9195281a",
   "metadata": {
    "tags": []
   },
   "outputs": [],
   "source": [
    "\n",
    "def categorize_job_des_by_level(description, title_category_level):\n",
    "    if title_category_level == \"Other\":\n",
    "        des_lower = description.lower()\n",
    "        # Categorize by job level\n",
    "        for category, keywords in des_categories_by_level.items():\n",
    "            for keyword in keywords:\n",
    "                if re.search(r'\\b' + keyword + r'\\b', des_lower):\n",
    "                    return category\n",
    "    return title_category_level\n",
    "\n",
    "\n",
    "def categorize_job_des_by_domain(description, title_category_domain):\n",
    "    des_lower = description.lower()\n",
    "    # Categorize by job domain\n",
    "    for category, keywords in des_categories_by_domain.items():\n",
    "        for keyword in keywords:\n",
    "            if re.search(r'\\b' + keyword + r'\\b', des_lower):\n",
    "                return category\n",
    "    \n",
    "    return title_category_domain\n"
   ]
  },
  {
   "cell_type": "code",
   "execution_count": 20,
   "id": "7e9da143-93f1-4fe6-a659-34bfbef3b471",
   "metadata": {
    "tags": []
   },
   "outputs": [],
   "source": [
    "# Apply the categorization function and create two new columns\n",
    "\n",
    "data['des_category_level'] = data.apply(lambda row: categorize_job_des_by_level(row['description'], row['title_category_level']), axis=1)\n",
    "data['des_category_domain'] = data.apply(lambda row: categorize_job_des_by_domain(row['description'], row['title_category_domain']), axis=1)"
   ]
  },
  {
   "cell_type": "code",
   "execution_count": 21,
   "id": "7a2fbaab-6615-48e3-8bcf-3a616151d840",
   "metadata": {
    "tags": []
   },
   "outputs": [],
   "source": [
    "# Save the modified dataset to a CSV file\n",
    "data.to_csv('1.6_dataset.csv', index=False)"
   ]
  },
  {
   "cell_type": "code",
   "execution_count": null,
   "id": "b22499a9-ec94-4a54-b2a0-cd37df86fe5d",
   "metadata": {
    "tags": []
   },
   "outputs": [],
   "source": [
    "\n"
   ]
  },
  {
   "cell_type": "code",
   "execution_count": null,
   "id": "43855933-3262-492a-a22e-4b269adf9d81",
   "metadata": {},
   "outputs": [],
   "source": []
  }
 ],
 "metadata": {
  "kernelspec": {
   "display_name": "Python 3 (ipykernel)",
   "language": "python",
   "name": "python3"
  },
  "language_info": {
   "codemirror_mode": {
    "name": "ipython",
    "version": 3
   },
   "file_extension": ".py",
   "mimetype": "text/x-python",
   "name": "python",
   "nbconvert_exporter": "python",
   "pygments_lexer": "ipython3",
   "version": "3.10.12"
  }
 },
 "nbformat": 4,
 "nbformat_minor": 5
}
