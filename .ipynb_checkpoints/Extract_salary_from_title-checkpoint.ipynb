{
 "cells": [
  {
   "cell_type": "code",
   "execution_count": 3,
   "id": "fcff4be4-fb8e-422f-a458-e28d9dd1f2af",
   "metadata": {
    "tags": []
   },
   "outputs": [],
   "source": [
    "import pandas as pd\n",
    "import re\n",
    "data = pd.read_csv('1.3_dataset.csv')"
   ]
  },
  {
   "cell_type": "code",
   "execution_count": 4,
   "id": "63be98b1-4f03-443b-99dc-2305ed9b15e9",
   "metadata": {
    "tags": []
   },
   "outputs": [
    {
     "name": "stdout",
     "output_type": "stream",
     "text": [
      "Row 4: Product Data Analyst (Remote) ($80000.00 - $90000.00 / year)\n",
      "Row 65: Sr. RCM, Patient Access, Data Analyst - Remote ($67800.00 ...\n",
      "Row 423: Lead Sr. Data Analyst (Remote) ($62974.88 - $107010.20 / year)\n",
      "Row 432: Technical Demand Planning Data Analyst - Remote US ($63700.00 ...\n",
      "Row 449: Senior Data Analyst (remote) ($81666.00 - $115934.00 / year)\n",
      "Row 480: Senior Risk Adjustment Data Analyst - REMOTE ($82058.00 / year)\n",
      "Row 508: Data Analyst II - US Remote ($6258.00 - $7823.00 / month)\n",
      "Row 523: Expert Risk Adjustment Data Analyst - REMOTE ($99290.00 / year)\n",
      "Row 762: Remote IT Data Analyst/Power BI II (Mid-Level) ($60000.00 ...\n",
      "Row 765: Lead Pharmacy Data Analyst (Remote) ($93600.00 - $185900.00 / year)\n",
      "Row 772: Environmental Data Analyst – Mid/Senior Level (Remote) ($96000.00...\n",
      "Row 774: Remote Healthcare Data Analyst ($28.85 / hour)\n",
      "Row 1781: Boolean Search Data Analyst | $54,000-$108,000+ | Forbes Top 100...\n",
      "Row 2883: Junior Data Analyst (Remote) ($75000.00 - $125000.00 / year)\n",
      "Row 2884: Marketing Data Analyst (Remote) ($84000.00 - $94000.00 / year)\n",
      "Row 3387: Entry Level Data Analyst (Remote) ($85000.00 - $135000.00 / year)\n",
      "Row 3399: Data Analyst (Remote) ($100000.00 - $130000.00 / year)\n",
      "Row 3408: Data Analyst (Remote) ($80000.00 - $120000.00 / year)\n",
      "Row 3410: Sr Revenue Cycle Data Modeling Analyst - Remote ($67800.00 ...\n",
      "Row 3412: Data Analyst (Remote) ($100000.00 - $130000.00 / year)\n",
      "Row 3413: Credit Data Analyst - Potential for remote ($125055.00 / year)\n",
      "Row 3423: Senior Data Analyst (remote) ($81666.00 - $115934.00 / year)\n",
      "Row 3428: Senior Data Analyst (remote) ($81666.00 - $115934.00 / year)\n",
      "Row 3431: Remote Jr. Reporting Data Analyst ($27.88 - $28.85 / hour)\n",
      "Row 3434: Environmental Data Analyst – Mid/Senior Level (Remote) ($96000.00...\n",
      "Row 3437: Senior Data Analyst (remote) ($81666.00 - $115934.00 / year)\n",
      "Row 3438: Senior Data Analyst (remote) ($81666.00 - $115934.00 / year)\n",
      "Row 3470: Vendor Management Data Analyst-Senior - Remote Contract! ($55.00 ...\n",
      "Row 3520: Sr Data Analyst - Remote ($85000.00 - $167300.00 / year)\n",
      "Row 3521: Senior Analyst, Merch Analytics - Remote ($87100.00 - $130700.00 ...\n",
      "Row 3523: EDI Data Analyst/Business Systems Analyst III (Remote) ($81200.00...\n",
      "Row 3524: Data Analyst (remote) ($81666.00 - $115934.00 / year)\n",
      "Row 3525: Senior Data Analyst - Remote Eligible ($36.20 - $55.26 / hour)\n",
      "Row 3533: Data Analyst (remote) ($81666.00 - $115934.00 / year)\n",
      "Row 3552: Senior Data Analyst - Remote ($85000.00 - $167300.00 / year)\n",
      "Row 3553: Senior Data Analyst - Remote ($85000.00 - $167300.00 / year)\n",
      "Row 3564: Environmental Data Analyst - Mid/Senior Level (Remote) ($96000.00...\n",
      "Row 3573: Workforce Optimization Data Analyst (remote) ($70000.00 ...\n",
      "Row 3575: Technical Demand Planning Data Analyst - Remote US ($63700.00 ...\n",
      "Row 3582: Data Analyst(Remote) ($75000.00 - $100000.00 / year)\n",
      "Row 3584: Data Analyst(Remote) ($75000.00 - $100000.00 / year)\n",
      "Row 3660: Junior Data Analyst (Remote) ($82000.00 - $140000.00 / year)\n",
      "Row 3675: Data Analyst - Remote ($67800.00 - $133100.00 / year)\n",
      "Row 3913: Database Analyst Senior - TS/SCI clearance required - $10K SIGN-ON...\n",
      "Row 4196: Senior Data Analyst (remote) ($81666.00 - $115934.00 / year)\n",
      "Row 4218: Senior Data Analyst (remote) ($81666.00 - $115934.00 / year)\n",
      "Row 4225: JUNIOR DATA ANALYST (REMOTE) ($75000.00 - $150000.00 / year)\n",
      "Row 5268: Qlik/Power BI Data Analyst | $130K-$150K + ESOP |100% USA-Remote\n",
      "Row 5499: Minimum $10k Sign-On Bonus Electro-Optical Sensor/Seeker Data...\n",
      "Row 6082: Clinical Informatics Analyst - $5,000.00 Sign-On Bonus!\n",
      "Row 6356: Minimum $10k Sign-On Bonus Electro-Optical Sensor/Seeker Data...\n",
      "Row 6380: Senior IT Business Data Analyst | Onsite - Tulsa, OK | $100k - $130k\n",
      "Row 7812: Minimum $10k Sign-On Bonus Electro-Optical Sensor/Seeker Data...\n",
      "Row 8020: Remote: Data Governance Analyst//Pay rate: $40.75/hr\n",
      "Row 8192: Healthcare Finance Data Analyst - $24-28/hr\n",
      "Row 11677: Work from Home Data Analyst ($33/hour)\n",
      "Row 11682: Entry Level Remote Data Analyst ($35/hour)\n",
      "Row 12105: MarketCARES Senior Provider Data Analyst - Remote ($27.07 - $53.08...\n",
      "Row 13189: Data Analyst, Supply Chain Operations -(Full Time) $350 PD\n",
      "Row 13529: IT Data Analyst $66K\n",
      "Row 13764: Sr Data Analyst ($80/hr) - Remote Work\n",
      "Row 13800: Data Engineer – Remote position – Up to $130k Base + 10% bonus!\n",
      "Row 13819: Marketing Data Analyst $26$29 HR FT\n",
      "Row 13882: IT HR Data Analyst $26$30 FT\n",
      "Row 14078: Sr Business Data Analyst ($75/hr++) - Remote Work\n",
      "Row 14596: Data Analyst (Must have Telecom Exp) - REMOTE - $26 an hr - Only W2\n",
      "Row 15162: IAM Data Analyst - Remote ($99365.00 - $116900.00 / year)\n",
      "Row 15167: Sr. Clinical Data Analyst - Remote ($85000.00 - $167300.00 / year)\n",
      "Row 15168: Sr. Data Analyst, Talent Analytics - Remote ($85000.00 ...\n",
      "Row 15175: Senior Business Data Analyst, Revenue Cycle, Remote ($36.37 ...\n",
      "Row 15176: Product Data Analyst (Remote) ($62000.00 - $70000.00 / year)\n",
      "Row 15178: Data Analyst 1 - Remote ($56300.00 - $110400.00 / year)\n",
      "Row 15179: HR Data Analyst (Mostly Remote) ($82900.00 / year)\n",
      "Row 15180: Business Data Analyst - Remote Nationwide ($22.45 - $43.89 / hour)\n",
      "Row 15188: Infrastructure Data Analyst - Remote - US ($78200.00 - $105600.00...\n",
      "Row 15192: Data Analyst (Remote) ($100000.00 - $130000.00 / year)\n",
      "Row 15196: Data Analyst - US Healthcare (REMOTE) ($92060.00 / year)\n",
      "Row 15198: Research Data Analyst- Hybird/Remote - 122636 ($63000.00 ...\n",
      "Row 15199: Data Analyst (remote) ($81666.00 - $115934.00 / year)\n",
      "Row 15200: Senior Data Analyst (remote) ($81666.00 - $115934.00 / year)\n",
      "Row 15212: Data Analyst - Remote ($67800.00 - $133100.00 / year)\n",
      "Row 15213: Provider Data Analyst - Remote ($22.45 - $43.89 / hour)\n",
      "Row 15218: Data Analyst - Remote ($67800.00 - $133100.00 / year)\n",
      "Row 15219: eCommerce Data Analyst | $110K-$130K + Full Benefits | 100...\n",
      "Row 15221: Data Analyst (Hybrid/ Not fully remote) ($58000.00 / year)\n",
      "Row 15222: Sr Provider Data Analyst - Remote ($27.07 - $53.08 / hour)\n",
      "Row 15230: Senior Healthcare Data Analyst - REMOTE ($87447.00 - $125689.00 ...\n",
      "Row 15253: Remote Credit Risk Data Analyst ($110000.00 - $130000.00 / year)\n",
      "Row 15274: Medicare STARS Pharmacy Sr Data Analyst - Remote ($85000.00 ...\n",
      "Row 15277: Medicare STARS Pharmacy Sr Data Analyst - Remote ($85000.00 ...\n",
      "Row 15306: SENIOR DATA ANALYST - CLT/REMOTE ($65000.00 - $80000.00 / year)\n",
      "Row 15490: Senior Data Conversion Analyst - Remote ($101200.00 - $184000.00 ...\n",
      "Row 15791: Cisco Commerce Data Analyst-$45/hr\n",
      "Row 16298: Contract Data Scientist/Engineer - $125 p/h\n",
      "Row 18234: Business Intelligence Analyst (Marketing) $40/hour\n"
     ]
    }
   ],
   "source": [
    "# Define a function to check if the title meets the condition\n",
    "def has_salary_info(title):\n",
    "    return re.search(r'\\$([\\d,]+)', title) is not None\n",
    "\n",
    "# Create a list to store the rows with matching titles\n",
    "matching_rows = []\n",
    "\n",
    "# Check all titles and store matching rows\n",
    "for index, row in data.iterrows():\n",
    "    if has_salary_info(row['title']):\n",
    "        matching_rows.append(index)\n",
    "\n",
    "# Print the titles and corresponding row indices\n",
    "for index in matching_rows:\n",
    "    print(f\"Row {index}: {data.loc[index, 'title']}\")\n"
   ]
  },
  {
   "cell_type": "code",
   "execution_count": 5,
   "id": "fe37cc84-f944-4073-9972-0c1c3b2bf38b",
   "metadata": {
    "tags": []
   },
   "outputs": [],
   "source": [
    "# ($80000.00 - $90000.00 / year)\n",
    "# ($67800.00 ...\n",
    "# ($82058.00 / year)\n",
    "# ($6258.00 - $7823.00 / month)\n",
    "# ($28.85 / hour)\n",
    "# ($27.88 - $28.85 / hour)\n",
    "# $40.75/hr\n",
    "# ($33/hour)\n",
    "# $125 p/h\n",
    "# ($75/hr++)"
   ]
  },
  {
   "cell_type": "code",
   "execution_count": 6,
   "id": "b3ea309e-4a9e-44b5-bc20-a2581d65e3a3",
   "metadata": {
    "tags": []
   },
   "outputs": [],
   "source": [
    "# import re\n",
    "# salaries = re.findall(r'\\d+(?:,\\d{3})*\\.\\d{2}', salary_text)\n",
    "# print(salaries)"
   ]
  },
  {
   "cell_type": "code",
   "execution_count": 7,
   "id": "433d32d9-bc4a-4df4-9ac2-13dcbd6ddd0a",
   "metadata": {
    "tags": []
   },
   "outputs": [
    {
     "ename": "NameError",
     "evalue": "name 'salary_rows' is not defined",
     "output_type": "error",
     "traceback": [
      "\u001b[1;31m---------------------------------------------------------------------------\u001b[0m",
      "\u001b[1;31mNameError\u001b[0m                                 Traceback (most recent call last)",
      "Cell \u001b[1;32mIn[7], line 63\u001b[0m\n\u001b[0;32m     56\u001b[0m         \u001b[38;5;28;01mreturn\u001b[39;00m \u001b[38;5;28;01mNone\u001b[39;00m\n\u001b[0;32m     59\u001b[0m \u001b[38;5;66;03m# # Identify rows with salary information in the title\u001b[39;00m\n\u001b[0;32m     60\u001b[0m \u001b[38;5;66;03m# salary_rows = data[data['title'].str.contains(r'\\$\\d+(?:,\\d{3})*\\.\\d{2}', na=False)]\u001b[39;00m\n\u001b[0;32m     61\u001b[0m \n\u001b[0;32m     62\u001b[0m \u001b[38;5;66;03m# Extract and convert the salary information\u001b[39;00m\n\u001b[1;32m---> 63\u001b[0m salary_rows[\u001b[38;5;124m'\u001b[39m\u001b[38;5;124msalary\u001b[39m\u001b[38;5;124m'\u001b[39m] \u001b[38;5;241m=\u001b[39m \u001b[43msalary_rows\u001b[49m[\u001b[38;5;124m'\u001b[39m\u001b[38;5;124mtitle\u001b[39m\u001b[38;5;124m'\u001b[39m]\u001b[38;5;241m.\u001b[39mapply(convert_to_yearly)\n\u001b[0;32m     65\u001b[0m \u001b[38;5;66;03m# Update the salary column in the main dataset\u001b[39;00m\n\u001b[0;32m     66\u001b[0m data\u001b[38;5;241m.\u001b[39mupdate(salary_rows)\n",
      "\u001b[1;31mNameError\u001b[0m: name 'salary_rows' is not defined"
     ]
    }
   ],
   "source": [
    "import re\n",
    "\n",
    "total_salary_groups = 0\n",
    "def convert_to_yearly(salary_text):\n",
    "    global total_salary_groups\n",
    "    # Extract numerical values from the salary_text\n",
    "    # salaries = re.findall(r'\\d+(?:,\\d{3})*\\.\\d{2}', salary_text)\n",
    "    salaries = re.findall(r'\\d+(?:,\\d{3})*(?:\\.\\d{2})?', salary_text)\n",
    "\n",
    "    print(salaries)\n",
    "    \n",
    "    if len(salaries) == 2:\n",
    "        total_salary_groups += 1 \n",
    "        lower_salary = float(salaries[0].replace(',', ''))\n",
    "        upper_salary = float(salaries[1].replace(',', ''))\n",
    "        \n",
    "        # Convert hourly rate to yearly (assuming 40 hrs/week and 52 weeks/year)\n",
    "        if '/ year' in salary_text:\n",
    "            yearly_lower = lower_salary\n",
    "            yearly_upper = upper_salary\n",
    "        elif '/ month' in salary_text:\n",
    "            yearly_lower = lower_salary * 12\n",
    "            yearly_upper = upper_salary * 12\n",
    "        elif '/ hour' in salary_text:\n",
    "            yearly_lower = lower_salary * 40 * 52\n",
    "            yearly_upper = upper_salary * 40 * 52\n",
    "        elif '/hour' in salary_text:\n",
    "            yearly_lower = lower_salary * 40 * 52\n",
    "            yearly_upper = upper_salary * 40 * 52\n",
    "        elif '/hr' in salary_text:\n",
    "            yearly_lower = lower_salary * 40 * 52\n",
    "            yearly_upper = upper_salary * 40 * 52\n",
    "        elif 'p/h' in salary_text:\n",
    "            yearly_lower = lower_salary * 40 * 52\n",
    "            yearly_upper = upper_salary * 40 * 52\n",
    "        else:\n",
    "            return None\n",
    "        return f'{int(yearly_lower)}-{int(yearly_upper)} a year'\n",
    "    elif len(salaries) == 1:\n",
    "        total_salary_groups += 1 \n",
    "        # Convert yearly salary without range\n",
    "        yearly_salary = float(salaries[0].replace(',', ''))\n",
    "        yearly_lower = yearly_upper = yearly_salary\n",
    "        if '/ month' in salary_text:\n",
    "            yearly_salary = yearly_salary * 12\n",
    "        elif '/ hour' in salary_text:\n",
    "            yearly_salary = yearly_salary * 40 * 52\n",
    "        elif '/hour' in salary_text:\n",
    "            yearly_salary = yearly_salary * 40 * 52\n",
    "        elif '/hr' in salary_text:\n",
    "            yearly_salary = yearly_salary * 40 * 52\n",
    "        elif 'p/h' in salary_text:\n",
    "            yearly_salary = yearly_salary * 40 * 52\n",
    "        yearly_lower = yearly_upper = yearly_salary   \n",
    "        return f'{int(yearly_salary)} a year'\n",
    "        \n",
    "    else:\n",
    "        return None\n",
    "\n",
    "\n",
    "# # Identify rows with salary information in the title\n",
    "# salary_rows = data[data['title'].str.contains(r'\\$\\d+(?:,\\d{3})*\\.\\d{2}', na=False)]\n",
    "r'\\$\\d+(?:,\\d{3})*(\\.\\d{2})?|\\$\\d+'\n",
    "salary_rows = data[data['title'].str.contains(r'\\$\\d+(?:,\\d{3})*(\\.\\d{2})?|\\$\\d+', na=False)]\n",
    "# Extract and convert the salary information\n",
    "salary_rows['salary'] = salary_rows['title'].apply(convert_to_yearly)\n",
    "\n",
    "# Update the salary column in the main dataset\n",
    "data.update(salary_rows)\n",
    "\n",
    "print(total_salary_groups)"
   ]
  },
  {
   "cell_type": "code",
   "execution_count": 8,
   "id": "5ef72f22-cb07-4089-8491-ba310b2e4da5",
   "metadata": {
    "tags": []
   },
   "outputs": [
    {
     "name": "stdout",
     "output_type": "stream",
     "text": [
      "Missing values:\n",
      "title          0\n",
      "location       0\n",
      "salary         0\n",
      "platform       0\n",
      "description    0\n",
      "dtype: int64\n"
     ]
    }
   ],
   "source": [
    "# Check for missing values\n",
    "print('Missing values:')\n",
    "print(data.isnull().sum())"
   ]
  },
  {
   "cell_type": "code",
   "execution_count": 28,
   "id": "8edfdbc4-9ded-48dc-b374-b8a02320fc34",
   "metadata": {
    "tags": []
   },
   "outputs": [],
   "source": [
    "# Save the modified dataset to a CSV file\n",
    "data.to_csv('1.4_dataset.csv', index=False)"
   ]
  },
  {
   "cell_type": "code",
   "execution_count": 29,
   "id": "438b2b4e-7df2-4995-a866-eb57833399aa",
   "metadata": {
    "tags": []
   },
   "outputs": [
    {
     "name": "stdout",
     "output_type": "stream",
     "text": [
      "Missing values:\n",
      "title          0\n",
      "location       0\n",
      "salary         0\n",
      "platform       0\n",
      "description    0\n",
      "dtype: int64\n"
     ]
    }
   ],
   "source": [
    "# Check for missing values\n",
    "print('Missing values:')\n",
    "print(data.isnull().sum())"
   ]
  },
  {
   "cell_type": "code",
   "execution_count": null,
   "id": "2afb8a77-885e-40a7-8660-4d0d76108ead",
   "metadata": {},
   "outputs": [],
   "source": []
  },
  {
   "cell_type": "code",
   "execution_count": null,
   "id": "c3878fc2-fcc2-47e1-b89d-add3f7f01e72",
   "metadata": {},
   "outputs": [],
   "source": []
  },
  {
   "cell_type": "code",
   "execution_count": null,
   "id": "0a9fef15-6215-4633-9112-5fcd58da679e",
   "metadata": {},
   "outputs": [],
   "source": []
  }
 ],
 "metadata": {
  "kernelspec": {
   "display_name": "Python 3 (ipykernel)",
   "language": "python",
   "name": "python3"
  },
  "language_info": {
   "codemirror_mode": {
    "name": "ipython",
    "version": 3
   },
   "file_extension": ".py",
   "mimetype": "text/x-python",
   "name": "python",
   "nbconvert_exporter": "python",
   "pygments_lexer": "ipython3",
   "version": "3.10.12"
  }
 },
 "nbformat": 4,
 "nbformat_minor": 5
}
