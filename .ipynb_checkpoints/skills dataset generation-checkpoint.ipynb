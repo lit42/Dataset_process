{
 "cells": [
  {
   "cell_type": "code",
   "execution_count": 25,
   "id": "6c4f9579-e9d3-49e7-bfb7-a1604e6a59b6",
   "metadata": {
    "tags": []
   },
   "outputs": [
    {
     "name": "stderr",
     "output_type": "stream",
     "text": [
      "Processing hard_skills for des_category_level: 100%|██████████| 18040/18040 [00:01<00:00, 13540.14it/s]\n",
      "Processing soft_skills for des_category_level: 100%|██████████| 18040/18040 [00:01<00:00, 17919.80it/s]\n",
      "Processing hard_skills for des_category_domain: 100%|██████████| 18040/18040 [00:01<00:00, 12745.34it/s]\n",
      "Processing soft_skills for des_category_domain: 100%|██████████| 18040/18040 [00:00<00:00, 18616.63it/s]\n"
     ]
    }
   ],
   "source": [
    "import pandas as pd\n",
    "from collections import Counter, defaultdict\n",
    "from tqdm import tqdm\n",
    "\n",
    "# Sample dataset\n",
    "data = pd.read_csv('1.9.3_dataset.csv')\n",
    "df = pd.DataFrame(data)\n",
    "\n",
    "# List of non-relevant skills to be excluded\n",
    "exclude_skills = [\n",
    "    \"Disabilities\", \"Levelling\", \"Equalization\", \"Maintainability\", \n",
    "    \"Activism\", \"Medic\", \"Survey Data Analysis\", \"Additives\", \n",
    "    \"Industrialization\", \"Coloring\", \"Accessioning\", \"Minimum Data Set\",\n",
    "    \"Tooling\", \"Dashboard\", \"Personalization\", \"Dataset\"\n",
    "]\n",
    "\n",
    "exclude_skills += [\"Source Data\", \"Executable\", \"Limiter\", \"Collections\", \"Visualization\"]\n",
    "\n",
    "exclude_skills += [\"Job Descriptions\", \"Digitization\", \"Centering\", \"Receivables\", \"Data Analysis\", \n",
    "                   \"Data Science\", \"Metadata\", \t\"Algorithms\", \"Computer Science\", \"Vaccination\", \"Finance\", \n",
    "                   \"Statistics\", \"Data Quality\", \"Resourcing\", \"Automation\", \"Market Data\", \"Analytics\", \"Financial Data\"]\n",
    "\n",
    "\n",
    "# Function to get top N unique skills\n",
    "def get_top_skills(df, skill_col, group_col, N=10):\n",
    "    results = defaultdict(list)\n",
    "    \n",
    "    # Combine skills for each group into a single list\n",
    "    for _, row in tqdm(df.iterrows(), desc=f\"Processing {skill_col} for {group_col}\", total=df.shape[0]):\n",
    "        # Check if the skill column has a valid string value\n",
    "        if isinstance(row[skill_col], str):\n",
    "            # Filter out non-relevant skills\n",
    "            skills = [skill.strip() for skill in row[skill_col].split(\",\") if skill.strip() not in exclude_skills]\n",
    "            results[row[group_col]].extend(skills)\n",
    "        \n",
    "    # Get the top N skills for each group\n",
    "    for group, skills in results.items():\n",
    "        top_skills = [item[0] for item in Counter(skills).most_common(N)]\n",
    "        results[group] = top_skills\n",
    "    \n",
    "    return results\n",
    "\n",
    "# Extract top skills\n",
    "top_hard_skills_by_level = get_top_skills(df, 'hard_skills', 'des_category_level')\n",
    "top_soft_skills_by_level = get_top_skills(df, 'soft_skills', 'des_category_level')\n",
    "top_hard_skills_by_domain = get_top_skills(df, 'hard_skills', 'des_category_domain')\n",
    "top_soft_skills_by_domain = get_top_skills(df, 'soft_skills', 'des_category_domain')\n",
    "\n",
    "# Convert the results to DataFrames for saving\n",
    "df_top_hard_skills_by_level = pd.DataFrame.from_dict(top_hard_skills_by_level, orient='index').reset_index()\n",
    "df_top_hard_skills_by_level.columns = ['Level'] + [f\"Top {i+1} Hard Skill\" for i in range(10)]\n",
    "\n",
    "df_top_soft_skills_by_level = pd.DataFrame.from_dict(top_soft_skills_by_level, orient='index').reset_index()\n",
    "df_top_soft_skills_by_level.columns = ['Level'] + [f\"Top {i+1} Soft Skill\" for i in range(10)]\n",
    "\n",
    "df_top_hard_skills_by_domain = pd.DataFrame.from_dict(top_hard_skills_by_domain, orient='index').reset_index()\n",
    "df_top_hard_skills_by_domain.columns = ['Domain'] + [f\"Top {i+1} Hard Skill\" for i in range(10)]\n",
    "\n",
    "df_top_soft_skills_by_domain = pd.DataFrame.from_dict(top_soft_skills_by_domain, orient='index').reset_index()\n",
    "df_top_soft_skills_by_domain.columns = ['Domain'] + [f\"Top {i+1} Soft Skill\" for i in range(10)]\n",
    "\n",
    "# Save the results to CSV\n",
    "df_top_hard_skills_by_level.to_csv('top_hard_skills_by_level.csv', index=False)\n",
    "df_top_soft_skills_by_level.to_csv('top_soft_skills_by_level.csv', index=False)\n",
    "df_top_hard_skills_by_domain.to_csv('top_hard_skills_by_domain.csv', index=False)\n",
    "df_top_soft_skills_by_domain.to_csv('top_soft_skills_by_domain.csv', index=False)\n"
   ]
  },
  {
   "cell_type": "code",
   "execution_count": null,
   "id": "1ef9eda8-f5fa-4293-830b-ae7c3a5a68da",
   "metadata": {},
   "outputs": [],
   "source": []
  },
  {
   "cell_type": "code",
   "execution_count": null,
   "id": "3eb82ce2-faa6-4990-927a-7283c651b00b",
   "metadata": {},
   "outputs": [],
   "source": []
  },
  {
   "cell_type": "code",
   "execution_count": null,
   "id": "70dd934e-e931-4d52-a46b-82f2a5cb7233",
   "metadata": {},
   "outputs": [],
   "source": []
  }
 ],
 "metadata": {
  "kernelspec": {
   "display_name": "Python 3 (ipykernel)",
   "language": "python",
   "name": "python3"
  },
  "language_info": {
   "codemirror_mode": {
    "name": "ipython",
    "version": 3
   },
   "file_extension": ".py",
   "mimetype": "text/x-python",
   "name": "python",
   "nbconvert_exporter": "python",
   "pygments_lexer": "ipython3",
   "version": "3.10.12"
  }
 },
 "nbformat": 4,
 "nbformat_minor": 5
}
