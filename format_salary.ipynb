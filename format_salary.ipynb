{
 "cells": [
  {
   "cell_type": "code",
   "execution_count": 56,
   "id": "263aa2b0-9e9a-41a8-8e8c-952af2d922b2",
   "metadata": {
    "tags": []
   },
   "outputs": [],
   "source": [
    "import pandas as pd"
   ]
  },
  {
   "cell_type": "code",
   "execution_count": 57,
   "id": "d3b183fb-5ed2-44f8-9343-49c2b3178766",
   "metadata": {
    "tags": []
   },
   "outputs": [],
   "source": [
    "data = pd.read_csv('1.0_dataset.csv')"
   ]
  },
  {
   "cell_type": "code",
   "execution_count": 58,
   "id": "439e3d74-cb76-44bf-8aff-048313546151",
   "metadata": {
    "tags": []
   },
   "outputs": [],
   "source": [
    "import re\n",
    "\n",
    "# Function to convert salary ranges to a uniform yearly salary format\n",
    "def convert_salary(salary):\n",
    "    if salary == 'Not specified':\n",
    "        return salary\n",
    "    \n",
    "    # Convert decimal numbers to integers\n",
    "    salary = re.sub(r'(\\d+)\\.\\d+', r'\\1', salary)\n",
    "    \n",
    "    if 'hour' in salary:\n",
    "        # Extract hourly wage values\n",
    "        hour_match = re.match(r'(\\d+(?:\\.\\d+)?)–(\\d+(?:\\.\\d+)?) an hour', salary)\n",
    "        if hour_match:\n",
    "            lower = int(float(hour_match.group(1)) * 40 * 52)\n",
    "            upper = int(float(hour_match.group(2)) * 40 * 52)\n",
    "            return f'{lower}-{upper} a year'\n",
    "        else:\n",
    "            hourly_rate = int(float(salary.replace(' an hour', '')) * 40 * 52)\n",
    "            return f'{hourly_rate} a year'\n",
    "    \n",
    "    if 'year' in salary:\n",
    "        # Extract yearly salary values\n",
    "        year_match = re.match(r'([\\d,]+)–([\\d,]+) a year', salary)\n",
    "        if year_match:\n",
    "            lower = int(year_match.group(1).replace(',', ''))\n",
    "            upper = int(year_match.group(2).replace(',', ''))\n",
    "            return f'{lower}-{upper} a year'\n",
    "    \n",
    "    # Convert K to thousands\n",
    "    if 'K' in salary:\n",
    "        salary = salary.replace('K', '000')\n",
    "    \n",
    "    # Extract salary values\n",
    "    salary_match = re.match(r'(\\d+)–(\\d+)', salary)\n",
    "    if salary_match:\n",
    "        lower = int(salary_match.group(1))\n",
    "        upper = int(salary_match.group(2))\n",
    "        return f'{lower}-{upper} a year'\n",
    "    \n",
    "    # Single salary value\n",
    "    return salary\n",
    "\n",
    "# Apply the convert_salary function to the 'salary' column\n",
    "data['salary'] = data['salary'].apply(convert_salary)\n"
   ]
  },
  {
   "cell_type": "code",
   "execution_count": 59,
   "id": "55b2528c-550a-4f0d-a480-f1b56aa3fdd5",
   "metadata": {
    "tags": []
   },
   "outputs": [],
   "source": [
    "# Save the modified dataset to a CSV file\n",
    "data.to_csv('1.1_dataset.csv', index=False)\n"
   ]
  },
  {
   "cell_type": "code",
   "execution_count": 67,
   "id": "7dca2853-7320-40a0-84be-c08e21fd0d25",
   "metadata": {},
   "outputs": [],
   "source": [
    "data = pd.read_csv('1.1_dataset.csv')"
   ]
  },
  {
   "cell_type": "code",
   "execution_count": 68,
   "id": "85e6945d-50e1-4817-965c-f964e626d979",
   "metadata": {},
   "outputs": [
    {
     "name": "stdout",
     "output_type": "stream",
     "text": [
      "Missing values:\n",
      "title           0\n",
      "location       14\n",
      "salary          0\n",
      "platform        2\n",
      "description     0\n",
      "dtype: int64\n"
     ]
    }
   ],
   "source": [
    "# Check for missing values\n",
    "print('Missing values:')\n",
    "print(data.isnull().sum())"
   ]
  },
  {
   "cell_type": "code",
   "execution_count": 69,
   "id": "449407ee-f406-4e71-8ecb-b5d5ebcea888",
   "metadata": {
    "tags": []
   },
   "outputs": [
    {
     "name": "stdout",
     "output_type": "stream",
     "text": [
      "Missing values after cleaning:\n",
      "title          0\n",
      "location       0\n",
      "salary         0\n",
      "platform       0\n",
      "description    0\n",
      "dtype: int64\n"
     ]
    }
   ],
   "source": [
    "# Remove rows with missing values\n",
    "data_cleaned = data.dropna()\n",
    "\n",
    "# Check if missing values are removed\n",
    "print('Missing values after cleaning:')\n",
    "print(data_cleaned.isnull().sum())\n",
    "\n",
    "# Save the cleaned dataset to a CSV file\n",
    "data_cleaned.to_csv('1.2_dataset.csv', index=False)"
   ]
  },
  {
   "cell_type": "code",
   "execution_count": null,
   "id": "8999182a-dfd8-4b5c-80db-82affec7e3b8",
   "metadata": {},
   "outputs": [],
   "source": []
  },
  {
   "cell_type": "code",
   "execution_count": 28,
   "id": "48be12c6-53a7-4bcc-99e6-c42bb354d545",
   "metadata": {
    "tags": []
   },
   "outputs": [],
   "source": [
    "import pandas as pd\n",
    "data = pd.read_csv('1.2_dataset.csv')"
   ]
  },
  {
   "cell_type": "code",
   "execution_count": 29,
   "id": "607db80b-814e-453d-a5e7-34f20f36bf32",
   "metadata": {
    "tags": []
   },
   "outputs": [],
   "source": [
    "# Remove leading and trailing spaces from all columns\n",
    "data_cleaned = data.applymap(lambda x: x.strip() if isinstance(x, str) else x)\n"
   ]
  },
  {
   "cell_type": "code",
   "execution_count": 30,
   "id": "ad621c87-7d24-4651-8e82-d81c94d2c506",
   "metadata": {
    "tags": []
   },
   "outputs": [
    {
     "name": "stdout",
     "output_type": "stream",
     "text": [
      "                                                   title         location  \\\n",
      "1839                  Development Data Analyst (Analyst)  Kansas City, MO   \n",
      "1840   Senior Development Data Analyst (Development S...  Kansas City, MO   \n",
      "8490                            Research Data Analyst II         Anywhere   \n",
      "14742                   Data Analyst (Remote) - (822954)         Anywhere   \n",
      "15821                       RESEARCH DATA SPECIALIST III         Anywhere   \n",
      "\n",
      "                    salary  platform  \\\n",
      "1839   4,619–6,928 a month    Indeed   \n",
      "1840   5,173–7,759 a month    Indeed   \n",
      "8490   5,793–7,256 a month    Indeed   \n",
      "14742        6,355 a month  LinkedIn   \n",
      "15821  7,315–9,155 a month  LinkedIn   \n",
      "\n",
      "                                             description  \n",
      "1839   Pay,Benefits, & Work Schedule\\n\\nFull-time pos...  \n",
      "1840   Pay,Benefits, & Work Schedule\\n\\nFull-time pos...  \n",
      "8490   The CA. Department of Social Services' Researc...  \n",
      "14742  Data Analyst IV (Remote)\\n\\nTexas Workforce Co...  \n",
      "15821  About the DFPI\\n\\nThe Department of Financial ...  \n"
     ]
    }
   ],
   "source": [
    "# Filter rows based on salary condition\n",
    "filtered_rows = data_cleaned[~((data_cleaned['salary'] == 'Not specified') | data_cleaned['salary'].str.endswith('a year'))]\n",
    "\n",
    "# Display the filtered rows\n",
    "print(filtered_rows)"
   ]
  },
  {
   "cell_type": "code",
   "execution_count": 31,
   "id": "cf8fbf28-a5b2-40f1-a653-8214e20b4d1c",
   "metadata": {},
   "outputs": [],
   "source": [
    "def convert_salary(salary_str):\n",
    "    if \"a month\" in salary_str:\n",
    "        parts = salary_str.split('–')\n",
    "        if len(parts) == 2:\n",
    "            min_salary = int(parts[0].replace(',', ''))\n",
    "            max_salary = int(parts[1].split()[0].replace(',', ''))\n",
    "            min_annual_salary = min_salary * 12\n",
    "            max_annual_salary = max_salary * 12\n",
    "            return f'{min_annual_salary}-{max_annual_salary} a year'\n",
    "        else:\n",
    "            salary = int(parts[0].split()[0].replace(',', '')) * 12\n",
    "            return f'{salary} a year'\n",
    "    else:\n",
    "        return salary_str\n",
    "    \n",
    "# 在\"salary\"列应用转换函数\n",
    "data_cleaned['salary'] = data_cleaned['salary'].apply(convert_salary)\n",
    "\n"
   ]
  },
  {
   "cell_type": "code",
   "execution_count": 32,
   "id": "6a06a734-3e95-44e4-8144-98142689c243",
   "metadata": {
    "tags": []
   },
   "outputs": [],
   "source": [
    "# Save the cleaned dataset to a CSV file\n",
    "data_cleaned.to_csv('1.3_dataset.csv', index=False)"
   ]
  },
  {
   "cell_type": "code",
   "execution_count": 33,
   "id": "359a9e69-7e2f-47b6-82ff-9d875a5fc9d6",
   "metadata": {
    "tags": []
   },
   "outputs": [],
   "source": [
    "data = pd.read_csv('1.3_dataset.csv')"
   ]
  },
  {
   "cell_type": "code",
   "execution_count": 34,
   "id": "9ac48a3d-7e6e-44dd-baa4-b26920282c15",
   "metadata": {
    "tags": []
   },
   "outputs": [
    {
     "name": "stdout",
     "output_type": "stream",
     "text": [
      "Empty DataFrame\n",
      "Columns: [title, location, salary, platform, description]\n",
      "Index: []\n"
     ]
    }
   ],
   "source": [
    "# Filter rows based on salary condition\n",
    "filtered_rows = data_cleaned[~((data_cleaned['salary'] == 'Not specified') | data_cleaned['salary'].str.endswith('a year'))]\n",
    "\n",
    "# Display the filtered rows\n",
    "print(filtered_rows)"
   ]
  },
  {
   "cell_type": "code",
   "execution_count": null,
   "id": "f8514b45-bdaf-443d-a95d-f17b388eb9bd",
   "metadata": {},
   "outputs": [],
   "source": []
  },
  {
   "cell_type": "code",
   "execution_count": null,
   "id": "e04a3d98-8467-43d9-8be9-aebaf25dbd47",
   "metadata": {},
   "outputs": [],
   "source": []
  }
 ],
 "metadata": {
  "kernelspec": {
   "display_name": "Python 3 (ipykernel)",
   "language": "python",
   "name": "python3"
  },
  "language_info": {
   "codemirror_mode": {
    "name": "ipython",
    "version": 3
   },
   "file_extension": ".py",
   "mimetype": "text/x-python",
   "name": "python",
   "nbconvert_exporter": "python",
   "pygments_lexer": "ipython3",
   "version": "3.10.12"
  }
 },
 "nbformat": 4,
 "nbformat_minor": 5
}
