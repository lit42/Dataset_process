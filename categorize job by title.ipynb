{
 "cells": [
  {
   "cell_type": "code",
   "execution_count": 17,
   "id": "9995594e-9a6e-4c80-a51b-db5ef76fc475",
   "metadata": {
    "tags": []
   },
   "outputs": [],
   "source": [
    "import pandas as pd\n",
    "import re\n",
    "\n",
    "data = pd.read_csv('1.4_dataset.csv')"
   ]
  },
  {
   "cell_type": "code",
   "execution_count": 18,
   "id": "8e757bba-7834-4a86-a972-b27a7d7f84aa",
   "metadata": {
    "tags": []
   },
   "outputs": [],
   "source": [
    "# Define the keyword-based job title categories\n",
    "title_categories_by_level = {\n",
    "    \"Junior Data Analysts\": [\"junior\", \"jr\", \"entry level\", \"entry-level\", \"analyst i\", \"analyst 1\"],\n",
    "    \"Senior Data Analysts\": [\"senior\", \"sr\", \"analyst ii\", \"analyst 2\", \"analyst iii\", \"analyst 3\", \"advanced\"],\n",
    "    \"Lead Data Analysts\": [\"lead\", \"director\", \"manager\", \"leader\", \"principal\", \"cto\"],\n",
    "}\n",
    "\n",
    "title_categories_by_domain = {\n",
    "    \"BI Data Analysts\": [\"business intelligence\", \"bi\"],\n",
    "    \"Google Analytics expert\": [\"google\", \"ga4\", \"ga\"],\n",
    "    \"Data Governance Analyst\": [\"governance\"],\n",
    "    \"Qualitative Data Analysts\": [\"qualitative\"],\n",
    "    \"Healthcare Data Analysts\": [\"health\", \"healthcare\", \"medical\", \"clinical\", \"patient\"],\n",
    "    \"Supply Chain Data Analysts\": [\"supply chain\", \"logistics\"],\n",
    "    \"GIS Data Analysts\": [\"gis\", \"geospatial\", \"geographic\"],\n",
    "    \"HR Data Analysts\": [\"hr\", \"human resources\"],\n",
    "    \"Marketing Data Analysts\": [\"marketing\", \"market\", \"salesforce\", \"sales\", \"product\", \"production\", \"online retail\",\n",
    "                                \"trade\", \"commercial\", \"ecommerce\"],\n",
    "    \"Financial Data Analysts\": [\"financial\", \"finance\"],\n",
    "    \"Operations Data Analysts\": [\"operations\"],\n",
    "    \"Technical Data Analysts\": [\"technical\", \"tech\", \"technology\", \"it\"],\n",
    "    \"Risk Analysts\": [\"risk\", \"risks\"],\n",
    "    \"Data Engineers\": [\"engineer\", \"engineering\"],\n",
    "    \"Data Scientists\": [\"science\", \"scientist\", \"research\", \"researcher\", \"scientific\"],\n",
    "    \"Quality Data Analysts\": [\"quality\"],\n",
    "    \"Excel expert\": [\"excel\"],\n",
    "}\n",
    "\n"
   ]
  },
  {
   "cell_type": "code",
   "execution_count": 19,
   "id": "a9d6f011-aa58-4222-9a1d-d97e9195281a",
   "metadata": {
    "tags": []
   },
   "outputs": [],
   "source": [
    "\n",
    "def categorize_job_title_by_level(title):\n",
    "    title_lower = title.lower()\n",
    "    \n",
    "    # Categorize by job title level\n",
    "    for category, keywords in title_categories_by_level.items():\n",
    "        for keyword in keywords:\n",
    "            if re.search(r'\\b' + keyword + r'\\b', title_lower):\n",
    "                return category\n",
    "    \n",
    "    return \"Other\"\n",
    "\n",
    "\n",
    "def categorize_job_title_by_domain(title):\n",
    "    title_lower = title.lower()\n",
    "    \n",
    "    # Categorize by job title domain\n",
    "    for category, keywords in title_categories_by_domain.items():\n",
    "        for keyword in keywords:\n",
    "            if re.search(r'\\b' + keyword + r'\\b', title_lower):\n",
    "                return category\n",
    "    \n",
    "    return \"Other\"\n"
   ]
  },
  {
   "cell_type": "code",
   "execution_count": 20,
   "id": "7e9da143-93f1-4fe6-a659-34bfbef3b471",
   "metadata": {
    "tags": []
   },
   "outputs": [],
   "source": [
    "# Apply the categorization function and create two new columns\n",
    "data['title_category_level'] = data['title'].apply(categorize_job_title_by_level)\n",
    "data['title_category_domain'] = data['title'].apply(categorize_job_title_by_domain)"
   ]
  },
  {
   "cell_type": "code",
   "execution_count": 21,
   "id": "7a2fbaab-6615-48e3-8bcf-3a616151d840",
   "metadata": {
    "tags": []
   },
   "outputs": [],
   "source": [
    "# Save the modified dataset to a CSV file\n",
    "data.to_csv('1.5_dataset.csv', index=False)"
   ]
  },
  {
   "cell_type": "code",
   "execution_count": null,
   "id": "b22499a9-ec94-4a54-b2a0-cd37df86fe5d",
   "metadata": {
    "tags": []
   },
   "outputs": [],
   "source": [
    "\n"
   ]
  },
  {
   "cell_type": "code",
   "execution_count": null,
   "id": "43855933-3262-492a-a22e-4b269adf9d81",
   "metadata": {},
   "outputs": [],
   "source": []
  }
 ],
 "metadata": {
  "kernelspec": {
   "display_name": "Python 3 (ipykernel)",
   "language": "python",
   "name": "python3"
  },
  "language_info": {
   "codemirror_mode": {
    "name": "ipython",
    "version": 3
   },
   "file_extension": ".py",
   "mimetype": "text/x-python",
   "name": "python",
   "nbconvert_exporter": "python",
   "pygments_lexer": "ipython3",
   "version": "3.10.12"
  }
 },
 "nbformat": 4,
 "nbformat_minor": 5
}
