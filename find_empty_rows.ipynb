{
 "cells": [
  {
   "cell_type": "code",
   "execution_count": 23,
   "id": "2bfe8eb4-9b7a-4f28-8a80-8185961d59ba",
   "metadata": {
    "tags": []
   },
   "outputs": [
    {
     "name": "stdout",
     "output_type": "stream",
     "text": [
      "Row numbers where both hard_skills and soft_skills are empty: [76, 318, 393, 437, 757, 778, 1255, 1261, 1397, 1750, 1897, 1949, 2018, 2046, 2053, 2102, 2127, 2150, 2204, 2335, 2419, 2432, 2543, 2568, 2611, 2631, 2633, 2690, 2702, 2758, 2973, 3014, 3452, 3488, 3674, 3946, 3967, 4289, 4796, 4971, 5021, 5072, 5075, 5194, 5223, 5541, 5910, 5916, 5917, 6087, 6101, 6456, 6534, 6787, 7080, 8069, 8840, 8991, 8994, 9003, 9035, 9127, 9132, 9169, 9185, 9201, 9211, 9222, 9277, 9280, 9318, 9319, 9335, 9370, 9426, 9478, 9483, 9516, 9535, 9543, 9551, 9599, 9664, 9666, 9674, 9689, 9693, 9710, 9718, 9730, 9761, 9779, 9821, 9827, 9848, 9852, 9861, 9866, 9900, 9979, 9982, 10082, 10090, 10106, 10166, 10287, 10348, 10364, 10428, 10446, 10463, 10485, 10510, 10520, 10536, 10670, 10694, 10710, 10787, 10792, 10800, 10805, 10920, 10937, 10965, 10972, 10982, 10990, 11049, 11065, 11105, 11138, 11139, 11143, 11145, 11250, 11283, 11302, 11313, 11317, 11320, 11339, 11407, 11411, 11426, 11460, 11490, 11508, 11509, 11515, 11521, 11546, 11596, 11726, 11762, 12280, 12966, 13034, 13100, 13125, 13611, 13698, 13833, 14317, 14318, 14319, 14320, 14321, 14322, 14323, 14324, 14325, 14326, 14327, 14328, 14329, 14330, 14331, 14332, 14333, 14334, 14335, 14336, 14337, 14338, 14339, 14340, 14341, 14342, 14343, 14344, 14345, 14346, 14347, 14348, 14349, 14350, 14351, 14352, 14353, 14354, 14355, 14356, 14357, 14358, 14359, 14360, 14361, 15859, 16058, 16200, 16415, 16537, 16546, 16661, 17167, 17442, 17526, 17556, 17881, 17982]\n"
     ]
    }
   ],
   "source": [
    "import pandas as pd\n",
    "\n",
    "# Load your merged CSV file\n",
    "merged_file = 'merged_file.csv'  # Replace with the actual file path\n",
    "merged_df = pd.read_csv(merged_file)\n",
    "\n",
    "# Find rows where both hard_skills and soft_skills are empty\n",
    "empty_skills_rows = merged_df[(merged_df['hard_skills'].isna() | (merged_df['hard_skills'] == '')) & \n",
    "                              (merged_df['soft_skills'].isna() | (merged_df['soft_skills'] == ''))]\n",
    "\n",
    "# Get the row numbers where both columns are empty\n",
    "row_numbers = empty_skills_rows.index.tolist()\n",
    "\n",
    "print(\"Row numbers where both hard_skills and soft_skills are empty:\", row_numbers)\n"
   ]
  },
  {
   "cell_type": "code",
   "execution_count": 24,
   "id": "b15b916b-1117-467d-b183-23c020dd2a3c",
   "metadata": {
    "tags": []
   },
   "outputs": [],
   "source": [
    "# List of row numbers to delete\n",
    "rows_to_delete = [76, 318, 393, 437, 757, 778, 1255, 1261, 1397, 1750, 1897, 1949, 2018, 2046, 2053, 2102, 2127, 2150, 2204, 2335, 2419, 2432, 2543, 2568, 2611, 2631, 2633, 2690, 2702, 2758, 2973, 3014, 3452, 3488, 3674, 3946, 3967, 4289, 4796, 4971, 5021, 5072, 5075, 5194, 5223, 5541, 5910, 5916, 5917, 6087, 6101, 6456, 6534, 6787, 7080, 8069, 8840, 8991, 8994, 9003, 9035, 9127, 9132, 9169, 9185, 9201, 9211, 9222, 9277, 9280, 9318, 9319, 9335, 9370, 9426, 9478, 9483, 9516, 9535, 9543, 9551, 9599, 9664, 9666, 9674, 9689, 9693, 9710, 9718, 9730, 9761, 9779, 9821, 9827, 9848, 9852, 9861, 9866, 9900, 9979, 9982, 10082, 10090, 10106, 10166, 10287, 10348, 10364, 10428, 10446, 10463, 10485, 10510, 10520, 10536, 10670, 10694, 10710, 10787, 10792, 10800, 10805, 10920, 10937, 10965, 10972, 10982, 10990, 11049, 11065, 11105, 11138, 11139, 11143, 11145, 11250, 11283, 11302, 11313, 11317, 11320, 11339, 11407, 11411, 11426, 11460, 11490, 11508, 11509, 11515, 11521, 11546, 11596, 11726, 11762, 12280, 12966, 13034, 13100, 13125, 13611, 13698, 13833, 14317, 14318, 14319, 14320, 14321, 14322, 14323, 14324, 14325, 14326, 14327, 14328, 14329, 14330, 14331, 14332, 14333, 14334, 14335, 14336, 14337, 14338, 14339, 14340, 14341, 14342, 14343, 14344, 14345, 14346, 14347, 14348, 14349, 14350, 14351, 14352, 14353, 14354, 14355, 14356, 14357, 14358, 14359, 14360, 14361, 15859, 16058, 16200, 16415, 16537, 16546, 16661, 17167, 17442, 17526, 17556, 17881, 17982]\n",
    "\n",
    "# Delete the specified rows\n",
    "merged_df.drop(rows_to_delete, inplace=True)\n",
    "\n",
    "# Reset the index to have continuous row numbers\n",
    "merged_df.reset_index(drop=True, inplace=True)\n",
    "\n",
    "# Save the modified DataFrame to a new CSV file or overwrite the existing one\n",
    "merged_df.to_csv(\"1.9_dataset.csv\", index=False)\n"
   ]
  },
  {
   "cell_type": "code",
   "execution_count": 25,
   "id": "fc17b987-419c-4b7c-883a-63d14835fc5a",
   "metadata": {
    "tags": []
   },
   "outputs": [],
   "source": [
    "# Load your merged CSV file\n",
    "file = '1.7_dataset.csv' \n",
    "df = pd.read_csv(file)"
   ]
  },
  {
   "cell_type": "code",
   "execution_count": 26,
   "id": "47944daf-e175-4afe-b5de-4f29cf4b043e",
   "metadata": {
    "tags": []
   },
   "outputs": [],
   "source": [
    "# Delete the specified rows\n",
    "df.drop(rows_to_delete, inplace=True)\n",
    "\n",
    "# Reset the index to have continuous row numbers\n",
    "df.reset_index(drop=True, inplace=True)\n",
    "\n",
    "# Save the modified DataFrame to a new CSV file or overwrite the existing one\n",
    "df.to_csv(\"1.9.1_dataset.csv\", index=False)"
   ]
  },
  {
   "cell_type": "code",
   "execution_count": 29,
   "id": "f94af910-3561-4862-b450-2f1230ff5f87",
   "metadata": {
    "tags": []
   },
   "outputs": [],
   "source": [
    "# List of columns to delete\n",
    "columns_to_delete = [\"title_category_level\", \"title_category_domain\", \"processed_description\"]\n",
    "\n",
    "# Delete the specified columns\n",
    "df.drop(columns=columns_to_delete, inplace=True)\n",
    "\n",
    "# Save the modified DataFrame to a new CSV file or overwrite the existing one\n",
    "df.to_csv(\"1.9.2_dataset.csv\", index=False)"
   ]
  },
  {
   "cell_type": "code",
   "execution_count": 30,
   "id": "1829ff3b-d9cd-44b8-8e22-9dbf8b4f8e4f",
   "metadata": {
    "tags": []
   },
   "outputs": [],
   "source": [
    "file = '1.9_dataset.csv' \n",
    "df = pd.read_csv(file)\n",
    "\n",
    "other_df = pd.read_csv('1.9.2_dataset.csv')\n",
    "\n",
    "# Extract the \"hard_skills\" and \"soft_skills\" columns from df\n",
    "skills_df = df[[\"hard_skills\", \"soft_skills\"]]\n",
    "\n",
    "# Concatenate the skills_df with other_df along the columns axis\n",
    "result_df = pd.concat([other_df, skills_df], axis=1)\n",
    "\n",
    "# Now, result_df contains your other dataset with the \"hard_skills\" and \"soft_skills\" columns added\n",
    "\n",
    "# You can save the resulting DataFrame to a new CSV file if needed\n",
    "result_df.to_csv(\"1.9.3_dataset.csv\", index=False)\n"
   ]
  },
  {
   "cell_type": "code",
   "execution_count": null,
   "id": "1da81d2a-6071-451f-922a-93c18c8a2770",
   "metadata": {},
   "outputs": [],
   "source": []
  }
 ],
 "metadata": {
  "kernelspec": {
   "display_name": "Python 3 (ipykernel)",
   "language": "python",
   "name": "python3"
  },
  "language_info": {
   "codemirror_mode": {
    "name": "ipython",
    "version": 3
   },
   "file_extension": ".py",
   "mimetype": "text/x-python",
   "name": "python",
   "nbconvert_exporter": "python",
   "pygments_lexer": "ipython3",
   "version": "3.10.12"
  }
 },
 "nbformat": 4,
 "nbformat_minor": 5
}
