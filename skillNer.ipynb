{
 "cells": [
  {
   "cell_type": "code",
   "execution_count": 37,
   "id": "b5962d71-852f-4976-8cf1-d1b1c742429b",
   "metadata": {},
   "outputs": [
    {
     "name": "stdout",
     "output_type": "stream",
     "text": [
      "loading full_matcher ...\n",
      "loading abv_matcher ...\n",
      "loading full_uni_matcher ...\n",
      "loading low_form_matcher ...\n",
      "loading token_matcher ...\n"
     ]
    }
   ],
   "source": [
    "# imports\n",
    "import spacy\n",
    "from spacy.matcher import PhraseMatcher\n",
    "\n",
    "# load default skills data base\n",
    "from skillNer.general_params import SKILL_DB\n",
    "# import skill extractor\n",
    "from skillNer.skill_extractor_class import SkillExtractor\n",
    "\n",
    "# init params of skill extractor\n",
    "nlp = spacy.load(\"en_core_web_lg\")\n",
    "# init skill extractor\n",
    "skill_extractor = SkillExtractor(nlp, SKILL_DB, PhraseMatcher)\n",
    "\n",
    "# extract skills from job_description\n",
    "job_description = \"\"\"\n",
    "\tdescription\n",
    "77\tPosition Summary\n",
    "\n",
    "Supports customer analytics by implementing and managing day to day delivery of Customer Analytics including Customer Experience Metrics and Analysis, collaborate with offshore resources in the development of Customer Analytics data systems, data bases and design processes. The incumbent will also be responsible to develop methodology to model relationships between multivariate... operational metrics, customer survey data, and customer experience data. Incumbent will perform complex quantitate and qualitative analysis to support customer experience improvement. Make recommendations regarding customer experience analytics.\n",
    "\n",
    "Major Responsibilities\n",
    "• Perform quantitative and qualitative analysis using traditional and advanced analytical models, tools and techniques, including trending, correlation, forecasting,\n",
    "\n",
    "and conduct what-if scenario analysis, for field, sales and corporate leadership.\n",
    "• Document findings, interpret data findings, draw conclusions, write reports.\n",
    "• Develop data support systems by understanding external customer requirements and expected outcomes, forming and managing project teams, and delivering tools and\n",
    "\n",
    "systems on time.\n",
    "• Defines, designs, develops and delivers dashboards, reports and analyses to suport Market Intelligence and Customer Experience teams.\n",
    "• Establishes, manages and maintains a library of data dictionaries, reusable approaches, shared constructs and techniques for company-wide reference and access.\n",
    "• Reviews company needs and usage to recommend new modeling methodologies.\n",
    "• Manage multiple tasks while supporting multiple projects. Manage timelines to bring projects in on time and within budget.\n",
    "• Collaborates with Genpact team (external offshore partners).\n",
    "• Contribute to scoping analytical projects\n",
    "\n",
    "Qualifications\n",
    "• Master’s degree in Engineering, Operations Research, Statistics, Applied Math, Computer Science, or related quantitative field required\n",
    "• 2 years of experience in a related field required\n",
    "• 2 years of experience in Experience designing and building machine learning applications using either structured or unstructured datasets is required.\n",
    "• Practical experience programming using Python, R or other high level scripting languages is required. Demonstrated experience with one or more machine learning techniques including logistic regression, decision trees, random forests and clustering is required. Knowledge and experience with SQL is preferred.\n",
    "• Ability to collect and analyze complex data and translate data insights into action\n",
    "• Ability to organize and prioritize work to meet multiple deadlines\n",
    "• Effective communication skills in both oral and written form\n",
    "• Regular, predictable, full attendance is an essential function of the job\n",
    "• Willingness to travel as necessary, work the required schedule, work at the specific location required, complete Penske employment application, submit to a background investigation (to include past employment, education, and criminal history) and drug screening are required\n",
    "\n",
    "Physical Requirements\n",
    "• The physical and mental demands described here are representative of those that must be met by an associate to successfully perform the essential functions of this job. Reasonable accommodations may be made to enable individuals with disabilities to perform the essential functions.\n",
    "• The associate will be required to: read; communicate verbally and/or in written form; remember and analyze certain information; and remember and understand certain instructions or guidelines.\n",
    "• While performing the duties of this job, the associate may be required to stand, walk, and sit. The associate is frequently required to use hands to touch, handle, and feel, and to reach with hands and arms. The associate must be able to occasionally lift and/or move up to 25lbs/12kg.\n",
    "• Specific vision abilities required by this job include close vision, distance vision, peripheral vision, depth perception and the ability to adjust focus.\n",
    "\n",
    "Penske is an Equal Opportunity Employer.\n",
    "\n",
    "About Penske Truck Leasing\n",
    "\n",
    "Penske Truck Leasing Co., L.P., headquartered in Reading, Pennsylvania, is a partnership of Penske Corporation, Penske Automotive Group and Mitsui & Co., Ltd. A leading global transportation services provider, Penske operates a premier fleet of vehicles and serves its customers from locations in North America, South America, Europe, Australia, and Asia. Penske’s product lines include full-service truck leasing, contract maintenance, commercial and consumer truck rentals, used truck sales, transportation and warehousing management and supply chain management solutions.\n",
    "\n",
    "Work Locations\n",
    "\n",
    "100 Gundy Drive\n",
    "\n",
    "Primary Location\n",
    "\n",
    "United States-Pennsylvania-Reading\n",
    "\n",
    "Job\n",
    "\n",
    "Marketing\n",
    "\n",
    "Penske Oracle Job (US %26 CA only do not edit)\n",
    "\n",
    "PTL.Data Scientist\n",
    "\"\"\"\n",
    "\n",
    "annotations = skill_extractor.annotate(job_description)\n"
   ]
  },
  {
   "cell_type": "code",
   "execution_count": 38,
   "id": "48fbd0d3-1edd-4679-a99e-56ca34075e4e",
   "metadata": {},
   "outputs": [
    {
     "name": "stdout",
     "output_type": "stream",
     "text": [
      "{'text': 'description 77 position summary supports customer analytics by implementing and managing day to day delivery of customer analytics including customer experience metrics and analysis collaborate with offshore resources in the development of customer analytics data systems data bases and design processes the incumbent will also be responsible to develop methodology to model relationships between multivariate operational metrics customer survey data and customer experience data incumbent will perform complex quantitate and qualitative analysis to support customer experience improvement make recommendations regarding customer experience analytics major responsibilities • perform quantitative and qualitative analysis using traditional and advanced analytical models tools and techniques including trending correlation forecasting and conduct what if scenario analysis for field sales and corporate leadership • document findings interpret data findings draw conclusions write reports • develop data support systems by understanding external customer requirements and expected outcomes forming and managing project teams and delivering tools and systems on time • defines designs develops and delivers dashboards reports and analyses to suport market intelligence and customer experience teams • establishes manages and maintains a library of data dictionaries reusable approaches shared constructs and techniques for company wide reference and access • reviews company needs and usage to recommend new modeling methodologies • manage multiple tasks while supporting multiple projects manage timelines to bring projects in on time and within budget • collaborates with genpact team external offshore partners • contribute to scoping analytical projects qualifications • master’s degree in engineering operations research statistics applied math computer science or related quantitative field required • 2 years of experience in a related field required • 2 years of experience in experience designing and building machine learning applications using either structured or unstructured datasets is required • practical experience programming using python r or other high level scripting languages is required demonstrated experience with one or more machine learning techniques including logistic regression decision trees random forests and clustering is required knowledge and experience with sql is preferred • ability to collect and analyze complex data and translate data insights into action • ability to organize and prioritize work to meet multiple deadlines • effective communication skills in both oral and written form • regular predictable full attendance is an essential function of the job • willingness to travel as necessary work the required schedule work at the specific location required complete penske employment application submit to a background investigation to include past employment education and criminal history and drug screening are required physical requirements • the physical and mental demands described here are representative of those that must be met by an associate to successfully perform the essential functions of this job reasonable accommodations may be made to enable individuals with disabilities to perform the essential functions • the associate will be required to read; communicate verbally and or in written form; remember and analyze certain information; and remember and understand certain instructions or guidelines • while performing the duties of this job the associate may be required to stand walk and sit the associate is frequently required to use hands to touch handle and feel and to reach with hands and arms the associate must be able to occasionally lift and or move up to 25lbs 12kg • specific vision abilities required by this job include close vision distance vision peripheral vision depth perception and the ability to adjust focus penske is an equal opportunity employer about penske truck leasing penske truck leasing co l p headquartered in reading pennsylvania is a partnership of penske corporation penske automotive group and mitsui & co ltd a leading global transportation services provider penske operates a premier fleet of vehicles and serves its customers from locations in north america south america europe australia and asia penske’s product lines include full service truck leasing contract maintenance commercial and consumer truck rentals used truck sales transportation and warehousing management and supply chain management solutions work locations 100 gundy drive primary location united states pennsylvania reading job marketing penske oracle job us %26 ca only do not edit ptl data scientist', 'results': {'full_matches': [{'skill_id': 'KS122LN62P1F4BSYRJBG', 'doc_node_value': 'customer analytic', 'score': 1, 'doc_node_id': [5, 6]}, {'skill_id': 'KS122LN62P1F4BSYRJBG', 'doc_node_value': 'customer analytic', 'score': 1, 'doc_node_id': [16, 17]}, {'skill_id': 'KS121JM6QL5CGM2LSDS9', 'doc_node_value': 'customer experience', 'score': 1, 'doc_node_id': [19, 20]}, {'skill_id': 'KS122LN62P1F4BSYRJBG', 'doc_node_value': 'customer analytic', 'score': 1, 'doc_node_id': [32, 33]}, {'skill_id': 'KS121JM6QL5CGM2LSDS9', 'doc_node_value': 'customer experience', 'score': 1, 'doc_node_id': [61, 62]}, {'skill_id': 'KS7G0XG6RN0CVG9FWMRZ', 'doc_node_value': 'qualitative analysis', 'score': 1, 'doc_node_id': [70, 71]}, {'skill_id': 'KS121JM6QL5CGM2LSDS9', 'doc_node_value': 'customer experience', 'score': 1, 'doc_node_id': [74, 75]}, {'skill_id': 'KS121JM6QL5CGM2LSDS9', 'doc_node_value': 'customer experience', 'score': 1, 'doc_node_id': [80, 81]}, {'skill_id': 'KS7G0XG6RN0CVG9FWMRZ', 'doc_node_value': 'qualitative analysis', 'score': 1, 'doc_node_id': [89, 90]}, {'skill_id': 'KS440B9652S5BZRBVHDS', 'doc_node_value': 'scenario analysis', 'score': 1, 'doc_node_id': [108, 109]}, {'skill_id': 'KS1265660DX5R55XBXDD', 'doc_node_value': 'market intelligence', 'score': 1, 'doc_node_id': [163, 164]}, {'skill_id': 'KS121JM6QL5CGM2LSDS9', 'doc_node_value': 'customer experience', 'score': 1, 'doc_node_id': [166, 167]}, {'skill_id': 'KS122NT6WCRGRSZ2CDR4', 'doc_node_value': 'datum dictionary', 'score': 1, 'doc_node_id': [177, 178]}, {'skill_id': 'KS1206R6J3HDQV8PPC87', 'doc_node_value': 'operation research', 'score': 1, 'doc_node_id': [242, 243]}, {'skill_id': 'KS1226Y6DNDT05G7FJ4J', 'doc_node_value': 'computer science', 'score': 1, 'doc_node_id': [247, 248]}, {'skill_id': 'KS125Z169HQJ1KQT60RW', 'doc_node_value': 'logistic regression', 'score': 1, 'doc_node_id': [310, 311]}, {'skill_id': 'KS120KZ6XYYK7QL2B09G', 'doc_node_value': 'employment application', 'score': 1, 'doc_node_id': [392, 393]}, {'skill_id': 'KS122V476R907X5ZRBX7', 'doc_node_value': 'depth perception', 'score': 1, 'doc_node_id': [557, 558]}, {'skill_id': 'KS440HK72NCTJJWMWRRS', 'doc_node_value': 'service provider', 'score': 1, 'doc_node_id': [603, 604]}, {'skill_id': 'KS1282M5W0LX8GL33QBQ', 'doc_node_value': 'product line', 'score': 1, 'doc_node_id': [629, 630]}, {'skill_id': 'ES72D57E1BC4BB22BBB0', 'doc_node_value': 'supply chain', 'score': 1, 'doc_node_id': [651, 652]}, {'skill_id': 'KS440C365HRHPM9VQDFF', 'doc_node_value': 'supply chain management', 'score': 1, 'doc_node_id': [651, 652, 653]}, {'skill_id': 'KS123PC6DY2MQV0XP43Q', 'score': 1, 'doc_node_value': 'reach', 'doc_node_id': [521]}], 'ngram_scored': [{'skill_id': 'ESB7D4D9034BC8B2CAB1', 'doc_node_id': [2], 'doc_node_value': 'position', 'type': 'lowSurf', 'score': 0.5491300225257874, 'len': 1}, {'skill_id': 'KS120SR6WD1FP76Z6GC2', 'doc_node_id': [4, 5], 'doc_node_value': 'supports customer', 'type': 'lowSurf', 'score': 2, 'len': 2}, {'skill_id': 'KS1218W78FGVPVP2KXPX', 'doc_node_id': [10], 'doc_node_value': 'managing', 'type': 'lowSurf', 'score': 0.7954264879226685, 'len': 1}, {'skill_id': 'KS7AASDV6UOE7VFBGF4D', 'doc_node_id': [24], 'doc_node_value': 'collaborate', 'type': 'lowSurf', 'score': 0.8060148358345032, 'len': 1}, {'skill_id': 'KS127775XB6N53XBB71N', 'doc_node_id': [26], 'doc_node_value': 'offshore', 'type': 'lowSurf', 'score': 0.712285041809082, 'len': 1}, {'skill_id': 'KS7G4BM6L4F7TD38NLC1', 'doc_node_id': [27], 'doc_node_value': 'resources', 'type': 'lowSurf', 'score': 0.8400801420211792, 'len': 1}, {'skill_id': 'KS1229175J54HXMZ8VRP', 'doc_node_id': [34, 36], 'doc_node_value': 'data data', 'type': 'oneToken', 'score': 0.6, 'len': 2}, {'skill_id': 'KS1229175J54HXMZ8VRP', 'doc_node_id': [34, 36], 'doc_node_value': 'data data', 'type': 'oneToken', 'score': 0.6, 'len': 2}, {'skill_id': 'KS122Q371XXPD31ZWMQZ', 'doc_node_id': [36], 'doc_node_value': 'data', 'type': 'lowSurf', 'score': 1, 'len': 1}, {'skill_id': 'KS122W179TCW8RVX29ZR', 'doc_node_id': [39, 40], 'doc_node_value': 'design processes', 'type': 'oneToken', 'score': 0.5666666666666668, 'len': 2}, {'skill_id': 'KS123KP6BJQFPT9Y4QD7', 'doc_node_id': [51, 52], 'doc_node_value': 'model relationships', 'type': 'oneToken', 'score': 0.5666666666666668, 'len': 2}, {'skill_id': 'KS127D361PF0FTXDZ7C4', 'doc_node_id': [55], 'doc_node_value': 'operational', 'type': 'lowSurf', 'score': 0.9089557528495789, 'len': 1}, {'skill_id': 'ESD0F9B616485111A37F', 'doc_node_id': [58, 59], 'doc_node_value': 'survey data', 'type': 'oneToken', 'score': 0.6333333333333333, 'len': 2}, {'skill_id': 'KS122LP6RT5V5PSQ84JQ', 'doc_node_id': [57, 59], 'doc_node_value': 'customer data', 'type': 'oneToken', 'score': 0.6333333333333333, 'len': 2}, {'skill_id': 'KS120SR6WD1FP76Z6GC2', 'doc_node_id': [73, 74], 'doc_node_value': 'support customer', 'type': 'lowSurf', 'score': 2, 'len': 2}, {'skill_id': 'KS120GV5ZXR64CJLL1J4', 'doc_node_id': [82], 'doc_node_value': 'analytics', 'type': 'fullUni', 'score': 1, 'len': 1}, {'skill_id': 'KS120GV5ZXR64CJLL1J4', 'doc_node_id': [95], 'doc_node_value': 'analytical', 'type': 'lowSurf', 'score': 0.7896987199783325, 'len': 1}, {'skill_id': 'KS441FR6L2YYQLPZBQRC', 'doc_node_id': [97], 'doc_node_value': 'tools', 'type': 'lowSurf', 'score': 0.7583283185958862, 'len': 1}, {'skill_id': 'KS1241P6PXRCKTDSWHTV', 'doc_node_id': [103], 'doc_node_value': 'forecasting', 'type': 'fullUni', 'score': 1, 'len': 1}, {'skill_id': 'KS123X777H5WFNXQ6BPM', 'doc_node_id': [112], 'doc_node_value': 'sales', 'type': 'lowSurf', 'score': 1.0, 'len': 1}, {'skill_id': 'KS124JB619VXG6RQ810C', 'doc_node_id': [115], 'doc_node_value': 'leadership', 'type': 'lowSurf', 'score': 1.0, 'len': 1}, {'skill_id': 'KS123586FGV3X7F7BJR7', 'doc_node_id': [122], 'doc_node_value': 'draw', 'type': 'lowSurf', 'score': 0.6796217560768127, 'len': 1}, {'skill_id': 'KS4425C7820LCHZS7VGX', 'doc_node_id': [124], 'doc_node_value': 'write', 'type': 'lowSurf', 'score': 0.7074721455574036, 'len': 1}, {'skill_id': 'KS122SL787WBFLV2T3DS', 'doc_node_id': [129, 130], 'doc_node_value': 'support systems', 'type': 'oneToken', 'score': 0.5666666666666668, 'len': 2}, {'skill_id': 'KS4407S6XCLWG2GL7KWZ', 'doc_node_id': [128, 130], 'doc_node_value': 'data systems', 'type': 'oneToken', 'score': 0.5666666666666668, 'len': 2}, {'skill_id': 'KS122LZ6LWWMZ6ML4265', 'doc_node_id': [134, 135], 'doc_node_value': 'customer requirements', 'type': 'oneToken', 'score': 0.6333333333333333, 'len': 2}, {'skill_id': 'KS1267F6MSPN366LX7ST', 'doc_node_id': [141, 142], 'doc_node_value': 'managing project', 'type': 'lowSurf', 'score': 2, 'len': 2}, {'skill_id': 'KS441FR6L2YYQLPZBQRC', 'doc_node_id': [146], 'doc_node_value': 'tools', 'type': 'lowSurf', 'score': 0.7583283185958862, 'len': 1}, {'skill_id': 'KS1218L60PDVZX16NZT1', 'doc_node_id': [157], 'doc_node_value': 'dashboards', 'type': 'lowSurf', 'score': 0.9163820743560791, 'len': 1}, {'skill_id': 'KS1218W78FGVPVP2KXPX', 'doc_node_id': [171], 'doc_node_value': 'manages', 'type': 'lowSurf', 'score': 0.6604391932487488, 'len': 1}, {'skill_id': 'KS1263K6Q6PD5NLKJ42V', 'doc_node_id': [173], 'doc_node_value': 'maintains', 'type': 'lowSurf', 'score': 0.7791884541511536, 'len': 1}, {'skill_id': 'KS122086PPY11B2M1G6N', 'doc_node_id': [175], 'doc_node_value': 'library', 'type': 'lowSurf', 'score': 1.0, 'len': 1}, {'skill_id': 'KS1229Q700MZ1HVZNWJR', 'doc_node_id': [182], 'doc_node_value': 'constructs', 'type': 'lowSurf', 'score': 0.8901564478874207, 'len': 1}, {'skill_id': 'KS7G7LT6PGPFH9YPKRMB', 'doc_node_id': [190], 'doc_node_value': 'access', 'type': 'lowSurf', 'score': 0.7638748288154602, 'len': 1}, {'skill_id': 'KS1218W78FGVPVP2KXPX', 'doc_node_id': [203], 'doc_node_value': 'manage', 'type': 'lowSurf', 'score': 0.680651843547821, 'len': 1}, {'skill_id': 'KS1267F6MSPN366LX7ST', 'doc_node_id': [209, 210], 'doc_node_value': 'projects manage', 'type': 'lowSurf', 'score': 2, 'len': 2}, {'skill_id': 'KS441DK5ZDF8Q8FWL19R', 'doc_node_id': [211], 'doc_node_value': 'timelines', 'type': 'fullUni', 'score': 1, 'len': 1}, {'skill_id': 'KS120HK5XY6JV257QLTX', 'doc_node_id': [220], 'doc_node_value': 'budget', 'type': 'lowSurf', 'score': 0.7082746028900146, 'len': 1}, {'skill_id': 'KS7AASDV6UOE7VFBGF4D', 'doc_node_id': [222], 'doc_node_value': 'collaborates', 'type': 'lowSurf', 'score': 0.8586048483848572, 'len': 1}, {'skill_id': 'KS127775XB6N53XBB71N', 'doc_node_id': [227], 'doc_node_value': 'offshore', 'type': 'lowSurf', 'score': 0.712285041809082, 'len': 1}, {'skill_id': 'KS120GV5ZXR64CJLL1J4', 'doc_node_id': [233], 'doc_node_value': 'analytical', 'type': 'lowSurf', 'score': 0.7896987199783325, 'len': 1}, {'skill_id': 'ES705D6A8AB8CBD5A530', 'doc_node_id': [244, 245], 'doc_node_value': 'statistics applied', 'type': 'lowSurf', 'score': 2, 'len': 2}, {'skill_id': 'KS123R86H3SBH3T7B3LQ', 'doc_node_id': [270, 271], 'doc_node_value': 'experience designing', 'type': 'lowSurf', 'score': 2, 'len': 2}, {'skill_id': 'ES2933FAEF72CE4E2840', 'doc_node_id': [274, 275], 'doc_node_value': 'machine learning', 'type': 'oneToken', 'score': 0.6333333333333333, 'len': 2}, {'skill_id': 'KSIF64ADSNL8EWGKPF0O', 'doc_node_id': [282], 'doc_node_value': 'datasets', 'type': 'lowSurf', 'score': 0.9437587857246399, 'len': 1}, {'skill_id': 'KS123655VLGBXHL0VPDW', 'doc_node_id': [288], 'doc_node_value': 'programming', 'type': 'fullUni', 'score': 1, 'len': 1}, {'skill_id': 'KS125LS6N7WP4S6SFTCK', 'doc_node_id': [290], 'doc_node_value': 'python', 'type': 'fullUni', 'score': 1, 'len': 1}, {'skill_id': 'KS124DQ6JX0NX9DBFDM8', 'doc_node_id': [291], 'doc_node_value': 'r', 'type': 'fullUni', 'score': 1, 'len': 1}, {'skill_id': 'KS124PZ6P9XVHHPQJ0ZR', 'doc_node_id': [294, 295], 'doc_node_value': 'high level', 'type': 'oneToken', 'score': 0.6333333333333333, 'len': 2}, {'skill_id': 'KS686SK6RGC8ZB23D2Y9', 'doc_node_id': [296, 297], 'doc_node_value': 'scripting languages', 'type': 'oneToken', 'score': 0.5666666666666668, 'len': 2}, {'skill_id': 'KS124PZ6P9XVHHPQJ0ZR', 'doc_node_id': [294, 295], 'doc_node_value': 'high level', 'type': 'oneToken', 'score': 0.6333333333333333, 'len': 2}, {'skill_id': 'ES2933FAEF72CE4E2840', 'doc_node_id': [306, 307], 'doc_node_value': 'machine learning', 'type': 'oneToken', 'score': 0.6333333333333333, 'len': 2}, {'skill_id': 'KS121YL65WGC33FY3HZQ', 'doc_node_id': [312, 313], 'doc_node_value': 'decision trees', 'type': 'oneToken', 'score': 0.6333333333333333, 'len': 2}, {'skill_id': 'KSAP4YQTVOS4ZSBNVSRY', 'doc_node_id': [314, 315], 'doc_node_value': 'random forests', 'type': 'oneToken', 'score': 0.6333333333333333, 'len': 2}, {'skill_id': 'KS440W865GC4VRBW6LJP', 'doc_node_id': [324], 'doc_node_value': 'sql', 'type': 'fullUni', 'score': 1, 'len': 1}, {'skill_id': 'KS7G4YT72YHJ3BVJ4P56', 'doc_node_id': [330], 'doc_node_value': 'collect', 'type': 'lowSurf', 'score': 0.5747082829475403, 'len': 1}, {'skill_id': 'KS441HT671WH1P3LZFBC', 'doc_node_id': [336], 'doc_node_value': 'translate', 'type': 'lowSurf', 'score': 0.6887872815132141, 'len': 1}, {'skill_id': 'KS7G747655VG23WXMS9B', 'doc_node_id': [346], 'doc_node_value': 'prioritize', 'type': 'lowSurf', 'score': 0.722472071647644, 'len': 1}, {'skill_id': 'KS441S06L3NZBK0D6JM8', 'doc_node_id': [354, 355], 'doc_node_value': 'communication skills', 'type': 'oneToken', 'score': 0.5666666666666668, 'len': 2}, {'skill_id': 'KS127ZZ5XH0N183H29B5', 'doc_node_id': [364], 'doc_node_value': 'predictable', 'type': 'lowSurf', 'score': 0.7432107329368591, 'len': 1}, {'skill_id': 'KS680KR72KH02C5GM5TY', 'doc_node_id': [383], 'doc_node_value': 'schedule', 'type': 'lowSurf', 'score': 0.8151722550392151, 'len': 1}, {'skill_id': 'KS7G2PN6Q42WPLR91C09', 'doc_node_id': [398], 'doc_node_value': 'investigation', 'type': 'fullUni', 'score': 1, 'len': 1}, {'skill_id': 'KS127TD6X5C909DYQ765', 'doc_node_id': [412], 'doc_node_value': 'physical', 'type': 'lowSurf', 'score': 0.5641313195228577, 'len': 1}, {'skill_id': 'KS127TD6X5C909DYQ765', 'doc_node_id': [416], 'doc_node_value': 'physical', 'type': 'lowSurf', 'score': 0.5641313195228577, 'len': 1}, {'skill_id': 'KS1230C5X5T37GZ1NJ2B', 'doc_node_id': [451], 'doc_node_value': 'disabilities', 'type': 'lowSurf', 'score': 1.0, 'len': 1}, {'skill_id': 'KS440BJ6KNCLNVY4Q946', 'doc_node_id': [464], 'doc_node_value': 'read', 'type': 'lowSurf', 'score': 1, 'len': 1}, {'skill_id': 'KS7G4XR784Q66ZDX1WKL', 'doc_node_id': [485], 'doc_node_value': 'instructions', 'type': 'lowSurf', 'score': 0.8216136693954468, 'len': 1}, {'skill_id': 'KS120N35W6P190K9B7YT', 'doc_node_id': [525], 'doc_node_value': 'arms', 'type': 'lowSurf', 'score': 1, 'len': 1}, {'skill_id': 'KS1267R72H1P0F4J08NQ', 'doc_node_id': [568], 'doc_node_value': 'equal', 'type': 'lowSurf', 'score': 1, 'len': 1}, {'skill_id': 'KS440BJ6KNCLNVY4Q946', 'doc_node_id': [584], 'doc_node_value': 'pennsylvania', 'type': 'lowSurf', 'score': 1, 'len': 1}, {'skill_id': 'ES4F50A0DD29E30D3D55', 'doc_node_id': [636, 637], 'doc_node_value': 'contract maintenance', 'type': 'lowSurf', 'score': 2, 'len': 2}, {'skill_id': 'ES4F50A0DD29E30D3D55', 'doc_node_id': [636, 637], 'doc_node_value': 'contract maintenance', 'type': 'lowSurf', 'score': 2, 'len': 2}, {'skill_id': 'KS123X777H5WFNXQ6BPM', 'doc_node_id': [645], 'doc_node_value': 'sales', 'type': 'fullUni', 'score': 1, 'len': 1}, {'skill_id': 'KS124DX6G31F5M9ZHNGC', 'doc_node_id': [648], 'doc_node_value': 'warehousing', 'type': 'fullUni', 'score': 1, 'len': 1}, {'skill_id': 'KS1218W78FGVPVP2KXPX', 'doc_node_id': [649], 'doc_node_value': 'management', 'type': 'fullUni', 'score': 1, 'len': 1}, {'skill_id': 'KS1218W78FGVPVP2KXPX', 'doc_node_id': [654], 'doc_node_value': 'solutions', 'type': 'lowSurf', 'score': 0.718933641910553, 'len': 1}, {'skill_id': 'KS440BJ6KNCLNVY4Q946', 'doc_node_id': [666], 'doc_node_value': 'job', 'type': 'lowSurf', 'score': 1, 'len': 1}]}}\n"
     ]
    }
   ],
   "source": [
    "print(annotations)"
   ]
  },
  {
   "cell_type": "code",
   "execution_count": null,
   "id": "bd8bd79d-145b-47cf-9dfd-626bbc2dc04d",
   "metadata": {},
   "outputs": [],
   "source": []
  },
  {
   "cell_type": "code",
   "execution_count": null,
   "id": "f9cdab7b-2a5f-4d92-9cdc-9a77aaa2c16b",
   "metadata": {},
   "outputs": [],
   "source": []
  }
 ],
 "metadata": {
  "kernelspec": {
   "display_name": "Python 3 (ipykernel)",
   "language": "python",
   "name": "python3"
  },
  "language_info": {
   "codemirror_mode": {
    "name": "ipython",
    "version": 3
   },
   "file_extension": ".py",
   "mimetype": "text/x-python",
   "name": "python",
   "nbconvert_exporter": "python",
   "pygments_lexer": "ipython3",
   "version": "3.10.12"
  }
 },
 "nbformat": 4,
 "nbformat_minor": 5
}
