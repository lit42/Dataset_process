{
 "cells": [
  {
   "cell_type": "code",
   "execution_count": 10,
   "id": "cb1e911e-1474-4dc7-8d29-cbad1ad35b89",
   "metadata": {
    "tags": []
   },
   "outputs": [
    {
     "name": "stdout",
     "output_type": "stream",
     "text": [
      "Top 10 Hard Skills:\n",
      "SQL (Programming Language): 8430\n",
      "Python (Programming Language): 5101\n",
      "Tableau (Business Intelligence Software): 4764\n",
      "Data Visualization: 3641\n",
      "R (Programming Language): 3320\n",
      "Power BI: 3059\n",
      "Business Intelligence: 2578\n",
      "Quantitative Data Analysis: 2484\n",
      "Ad Hoc Testing: 2424\n",
      "Data Modeling: 2334\n",
      "\n",
      "Top 10 Soft Skills:\n",
      "Positivity: 8391\n",
      "Communications: 7648\n",
      "Collaboration: 6721\n",
      "Presentations: 5389\n",
      "Planning: 4980\n",
      "Decisiveness: 4060\n",
      "Innovation: 3991\n",
      "Verbal Communication Skills: 3939\n",
      "Problem Solving: 3743\n",
      "Research: 3469\n"
     ]
    }
   ],
   "source": [
    "import pandas as pd\n",
    "from collections import Counter\n",
    "import csv\n",
    "\n",
    "exclude_skills = [\n",
    "    \"Disabilities\", \"Levelling\", \"Equalization\", \"Maintainability\", \n",
    "    \"Activism\", \"Medic\", \"Survey Data Analysis\", \"Survey Data Collection\", \"Additives\", \n",
    "    \"Industrialization\", \"Coloring\", \"Accessioning\", \"Minimum Data Set\",\n",
    "    \"Tooling\", \"Dashboard\", \"Personalization\", \"Dataset\"\n",
    "]\n",
    "\n",
    "exclude_skills += [\"Source Data\", \"Executable\", \"Limiter\", \"Collections\", \"Visualization\"]\n",
    "\n",
    "exclude_skills += [\"Job Descriptions\", \"Digitization\", \"Centering\", \"Receivables\", \"Data Analysis\", \n",
    "                   \"Data Science\", \"Metadata\", \t\"Algorithms\", \"Computer Science\", \"Vaccination\", \"Finance\", \n",
    "                   \"Statistics\", \"Data Quality\", \"Resourcing\", \"Automation\", \"Market Data\", \"Analytics\", \"Financial Data\",\n",
    "                  \"Banking\", \"Physics\", \"Validations\", \"Sustainability\", \"Commercialization\", \"Claims Processing\"]\n",
    "\n",
    "exclude_skills += [\"E (Programming Language)\", \"Tracking (Commercial Airline Flight)\", \"Track (Rail Transport)\", \n",
    "                   \"Consumables\", \"Life Insurance Sales\"]\n",
    "exclude_skills += [\"Component Object Model (COM)\", \"Sage SAFE X3\", \"Google Ads\", \"E-Commerce\", \"Surveys\", \n",
    "                   \"Hostile Work Environment\", \"Genetics\", \"Hospitality\", \"Operations\", \"Sales\", \"Integration\", \"Consulting\", \"Management\"]\n",
    "\n",
    "def clean_skills(skills, exclude_set):\n",
    "    return [skill for skill in skills if skill not in exclude_set]\n",
    "\n",
    "# 加载数据\n",
    "file_path = 'updated_dataset.csv' \n",
    "data = pd.read_csv(file_path)\n",
    "\n",
    "def count_skills(column, exclude_set):\n",
    "    skills_counter = Counter()\n",
    "    \n",
    "    for row in column:\n",
    "        if isinstance(row, str):\n",
    "            skills = list(set(row.split(', ')))\n",
    "            cleaned_skills = clean_skills(skills, exclude_set)\n",
    "            skills_counter.update(cleaned_skills)\n",
    "        \n",
    "    return skills_counter.most_common(10)  # 获取前10项\n",
    "\n",
    "\n",
    "top_hard_skills = count_skills(data['hard_skills'], set(exclude_skills))\n",
    "top_soft_skills = count_skills(data['soft_skills'], set(exclude_skills))\n",
    "\n",
    "print(\"Top 10 Hard Skills:\")\n",
    "for skill, count in top_hard_skills:\n",
    "    print(f\"{skill}: {count}\")\n",
    "\n",
    "print(\"\\nTop 10 Soft Skills:\")\n",
    "for skill, count in top_soft_skills:\n",
    "    print(f\"{skill}: {count}\")\n",
    "\n",
    "hard_skills_df = pd.DataFrame(top_hard_skills, columns=['Skill', 'Count'])\n",
    "soft_skills_df = pd.DataFrame(top_soft_skills, columns=['Skill', 'Count'])\n",
    "\n",
    "hard_skills_df.to_csv('top_10_hard_skills.csv', index=False, encoding='utf-8')\n",
    "soft_skills_df.to_csv('top_10_soft_skills.csv', index=False, encoding='utf-8')\n",
    "\n"
   ]
  },
  {
   "cell_type": "code",
   "execution_count": null,
   "id": "36a6b4ae-c8a0-4257-b7bd-24bd9be8cca2",
   "metadata": {},
   "outputs": [],
   "source": []
  }
 ],
 "metadata": {
  "kernelspec": {
   "display_name": "Python 3 (ipykernel)",
   "language": "python",
   "name": "python3"
  },
  "language_info": {
   "codemirror_mode": {
    "name": "ipython",
    "version": 3
   },
   "file_extension": ".py",
   "mimetype": "text/x-python",
   "name": "python",
   "nbconvert_exporter": "python",
   "pygments_lexer": "ipython3",
   "version": "3.10.12"
  }
 },
 "nbformat": 4,
 "nbformat_minor": 5
}
