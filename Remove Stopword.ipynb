{
 "cells": [
  {
   "cell_type": "code",
   "execution_count": 1,
   "id": "45a84c90-118f-454d-a213-d8b9bb55f36a",
   "metadata": {
    "tags": []
   },
   "outputs": [
    {
     "name": "stdout",
     "output_type": "stream",
     "text": [
      "['i', 'me', 'my', 'myself', 'we', 'our', 'ours', 'ourselves', 'you', \"you're\", \"you've\", \"you'll\", \"you'd\", 'your', 'yours', 'yourself', 'yourselves', 'he', 'him', 'his', 'himself', 'she', \"she's\", 'her', 'hers', 'herself', 'it', \"it's\", 'its', 'itself', 'they', 'them', 'their', 'theirs', 'themselves', 'what', 'which', 'who', 'whom', 'this', 'that', \"that'll\", 'these', 'those', 'am', 'is', 'are', 'was', 'were', 'be', 'been', 'being', 'have', 'has', 'had', 'having', 'do', 'does', 'did', 'doing', 'a', 'an', 'the', 'and', 'but', 'if', 'or', 'because', 'as', 'until', 'while', 'of', 'at', 'by', 'for', 'with', 'about', 'against', 'between', 'into', 'through', 'during', 'before', 'after', 'above', 'below', 'to', 'from', 'up', 'down', 'in', 'out', 'on', 'off', 'over', 'under', 'again', 'further', 'then', 'once', 'here', 'there', 'when', 'where', 'why', 'how', 'all', 'any', 'both', 'each', 'few', 'more', 'most', 'other', 'some', 'such', 'no', 'nor', 'not', 'only', 'own', 'same', 'so', 'than', 'too', 'very', 's', 't', 'can', 'will', 'just', 'don', \"don't\", 'should', \"should've\", 'now', 'd', 'll', 'm', 'o', 're', 've', 'y', 'ain', 'aren', \"aren't\", 'couldn', \"couldn't\", 'didn', \"didn't\", 'doesn', \"doesn't\", 'hadn', \"hadn't\", 'hasn', \"hasn't\", 'haven', \"haven't\", 'isn', \"isn't\", 'ma', 'mightn', \"mightn't\", 'mustn', \"mustn't\", 'needn', \"needn't\", 'shan', \"shan't\", 'shouldn', \"shouldn't\", 'wasn', \"wasn't\", 'weren', \"weren't\", 'won', \"won't\", 'wouldn', \"wouldn't\"]\n"
     ]
    },
    {
     "name": "stderr",
     "output_type": "stream",
     "text": [
      "[nltk_data] Downloading package stopwords to\n",
      "[nltk_data]     C:\\Users\\litan\\AppData\\Roaming\\nltk_data...\n",
      "[nltk_data]   Package stopwords is already up-to-date!\n",
      "[nltk_data] Downloading package punkt to\n",
      "[nltk_data]     C:\\Users\\litan\\AppData\\Roaming\\nltk_data...\n",
      "[nltk_data]   Package punkt is already up-to-date!\n"
     ]
    }
   ],
   "source": [
    "import nltk\n",
    "import re\n",
    "from nltk.corpus import stopwords\n",
    "from nltk.tokenize import word_tokenize\n",
    " \n",
    "nltk.download('stopwords')\n",
    "nltk.download('punkt')\n",
    "print(stopwords.words('english'))"
   ]
  },
  {
   "cell_type": "code",
   "execution_count": 13,
   "id": "758db029-2845-4a16-9e7b-7bbee0a90325",
   "metadata": {
    "tags": []
   },
   "outputs": [
    {
     "name": "stderr",
     "output_type": "stream",
     "text": [
      "100%|██████████████████████████████████████████████████████████████████████████| 18261/18261 [00:14<00:00, 1299.18it/s]\n",
      "100%|███████████████████████████████████████████████████████████████████████████| 18261/18261 [00:56<00:00, 321.35it/s]\n"
     ]
    },
    {
     "name": "stdout",
     "output_type": "stream",
     "text": [
      "Processing complete.\n"
     ]
    }
   ],
   "source": [
    "import pandas as pd\n",
    "import re\n",
    "from tqdm import tqdm\n",
    "\n",
    "# Load the CSV file into a Pandas DataFrame\n",
    "data = pd.read_csv('1.6_dataset.csv')\n",
    "\n",
    "# Define the set of English stopwords\n",
    "stop_words = set(stopwords.words('english'))\n",
    "\n",
    "def clean_text(text):\n",
    "    text = text.lower()\n",
    "    text = re.sub(r\"[()<>/]\", ', ', text)  # sub ()<>&/ to comma and space\n",
    "    text = re.sub(r\"&\", 'and', text)  # sub ()<>&/ to comma and space\n",
    "    text = re.sub(r\"[?!]\", '. ', text)  # sub ?! to dot and space\n",
    "    text = re.sub(\" [a-z0-9]+[\\.'\\-a-z0-9_]*[a-z0-9]+@\\w+\\.com\", \"\", text)  # sub email address to dot\n",
    "    text = re.sub('[#\"\\']', '', text)  # remove '#'\n",
    "    text = re.sub(\"e\\.g\\.\", '', text)  # remove the 'e.g.'\n",
    "    text = re.sub(\"it’s\", 'it is', text)\n",
    "    text = re.sub(\"we’re\", 'we are', text)\n",
    "    text = re.sub(\"[\\t\\n\\r\\f\\v]+\", \". \", text)  # remove \\n and \\r\n",
    "    text = re.sub(r'(?<=[.,])(?=[^\\s])', r' ', text)  # add space after comma and dot\n",
    "    text = re.sub('\\W+\\.', '.', text)  # remove the empty space before a dot\n",
    "    text = re.sub('\\W+\\,', ',', text)  # remove the empty space before a comma\n",
    "    text = re.sub('[,\\.]+\\.+', '.', text)  # sub multiple dots to one dot\n",
    "    text = re.sub(' +', ' ', text)  # replace multiple whitespace by one whitespace\n",
    "    return text\n",
    "\n",
    "# Define a function to process a text by removing stopwords and converting to lowercase\n",
    "def process_text(text):\n",
    "    word_tokens = word_tokenize(text)\n",
    "    filtered_tokens = [w for w in word_tokens if not w.lower() in stop_words]\n",
    "    processed_text = ' '.join(filtered_tokens).lower()  # Convert to lowercase\n",
    "    return processed_text\n",
    "\n",
    "# Apply the clean_text function and then the process_text function directly to the 'description' column\n",
    "tqdm.pandas()\n",
    "data['processed_description'] = data['description'].progress_apply(clean_text).progress_apply(process_text)\n",
    "\n",
    "# Save the DataFrame with the new columns to a new CSV file\n",
    "data.to_csv('1.7_dataset.csv', index=False)\n",
    "\n",
    "print(\"Processing complete.\")\n"
   ]
  },
  {
   "cell_type": "code",
   "execution_count": null,
   "id": "d708db0b-cb6e-42c5-9a96-17675b573deb",
   "metadata": {},
   "outputs": [],
   "source": []
  },
  {
   "cell_type": "code",
   "execution_count": null,
   "id": "378ffd12-93bc-4e63-98f5-1e52e0ef4701",
   "metadata": {},
   "outputs": [],
   "source": []
  },
  {
   "cell_type": "code",
   "execution_count": null,
   "id": "d7e8abf4-e080-4bd2-9443-5ec059f5419e",
   "metadata": {},
   "outputs": [],
   "source": []
  },
  {
   "cell_type": "code",
   "execution_count": null,
   "id": "2f1ea0aa-5d62-46d6-a240-3ced8d9741ed",
   "metadata": {},
   "outputs": [],
   "source": []
  }
 ],
 "metadata": {
  "kernelspec": {
   "display_name": "Python 3 (ipykernel)",
   "language": "python",
   "name": "python3"
  },
  "language_info": {
   "codemirror_mode": {
    "name": "ipython",
    "version": 3
   },
   "file_extension": ".py",
   "mimetype": "text/x-python",
   "name": "python",
   "nbconvert_exporter": "python",
   "pygments_lexer": "ipython3",
   "version": "3.10.12"
  }
 },
 "nbformat": 4,
 "nbformat_minor": 5
}
